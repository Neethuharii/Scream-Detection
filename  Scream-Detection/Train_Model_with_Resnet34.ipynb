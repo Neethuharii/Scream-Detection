{
  "nbformat": 4,
  "nbformat_minor": 0,
  "metadata": {
    "colab": {
      "provenance": [],
      "authorship_tag": "ABX9TyMRqTBTbgjcGxD6ihpmBZdz",
      "include_colab_link": true
    },
    "kernelspec": {
      "name": "python3",
      "display_name": "Python 3"
    },
    "language_info": {
      "name": "python"
    }
  },
  "cells": [
    {
      "cell_type": "markdown",
      "metadata": {
        "id": "view-in-github",
        "colab_type": "text"
      },
      "source": [
        "<a href=\"https://colab.research.google.com/github/Neethuharii/Scream-Detection/blob/main/%20Scream-Detection/Train_Model_with_Resnet34.ipynb\" target=\"_parent\"><img src=\"https://colab.research.google.com/assets/colab-badge.svg\" alt=\"Open In Colab\"/></a>"
      ]
    },
    {
      "cell_type": "code",
      "execution_count": 1,
      "metadata": {
        "id": "6XgA_PmTNzX7"
      },
      "outputs": [],
      "source": [
        "import os\n",
        "\n",
        "def count_files_in_directory(directory):\n",
        "    return len([name for name in os.listdir(directory) if os.path.isfile(os.path.join(directory, name))])"
      ]
    },
    {
      "cell_type": "code",
      "source": [
        "from google.colab import drive\n",
        "drive.mount('/content/drive')"
      ],
      "metadata": {
        "colab": {
          "base_uri": "https://localhost:8080/"
        },
        "id": "OkChNFL9SMTi",
        "outputId": "f733d3fc-564b-4895-83b8-b8ac1aa6c259"
      },
      "execution_count": 11,
      "outputs": [
        {
          "output_type": "stream",
          "name": "stdout",
          "text": [
            "Drive already mounted at /content/drive; to attempt to forcibly remount, call drive.mount(\"/content/drive\", force_remount=True).\n"
          ]
        }
      ]
    },
    {
      "cell_type": "code",
      "source": [
        "!ls '/content/Copy_of_Scream_Detection.ipynb'"
      ],
      "metadata": {
        "colab": {
          "base_uri": "https://localhost:8080/"
        },
        "id": "TdIft9w1R0qi",
        "outputId": "c2c9c122-13aa-4d03-d538-527ca65585dc"
      },
      "execution_count": 3,
      "outputs": [
        {
          "output_type": "stream",
          "name": "stdout",
          "text": [
            "ls: cannot access '/content/Copy_of_Scream_Detection.ipynb': No such file or directory\n"
          ]
        }
      ]
    },
    {
      "cell_type": "markdown",
      "source": [],
      "metadata": {
        "id": "2fdkT8WnSrzW"
      }
    },
    {
      "cell_type": "code",
      "source": [
        "directory_path = '/content/drive/MyDrive/archive-3/NotScreaming'\n",
        "file_count = count_files_in_directory(directory_path)\n",
        "print(f\"Number of files in '{directory_path}': {file_count}\")"
      ],
      "metadata": {
        "colab": {
          "base_uri": "https://localhost:8080/"
        },
        "id": "bl4Wj0VBRFED",
        "outputId": "2a513d0a-836f-40da-b084-08744a586c71"
      },
      "execution_count": 4,
      "outputs": [
        {
          "output_type": "stream",
          "name": "stdout",
          "text": [
            "Number of files in '/content/drive/MyDrive/archive-3/NotScreaming': 2631\n"
          ]
        }
      ]
    },
    {
      "cell_type": "code",
      "source": [
        "directory_path = '/content/drive/MyDrive/archive-3/Screaming'\n",
        "file_count = count_files_in_directory(directory_path)\n",
        "print(f\"Number of files in '{directory_path}': {file_count}\")"
      ],
      "metadata": {
        "colab": {
          "base_uri": "https://localhost:8080/"
        },
        "id": "g6i7tVCFS65V",
        "outputId": "8d532219-b949-40c7-99de-c176674c3729"
      },
      "execution_count": 5,
      "outputs": [
        {
          "output_type": "stream",
          "name": "stdout",
          "text": [
            "Number of files in '/content/drive/MyDrive/archive-3/Screaming': 862\n"
          ]
        }
      ]
    },
    {
      "cell_type": "code",
      "source": [
        "from torch.utils.data import DataLoader\n",
        "import torch\n",
        "import torch.nn as nn\n",
        "from torchvision import datasets, transforms"
      ],
      "metadata": {
        "id": "XrcFw4DwTf2I"
      },
      "execution_count": 6,
      "outputs": []
    },
    {
      "cell_type": "markdown",
      "source": [
        "Now we make the dataloader"
      ],
      "metadata": {
        "id": "hZ5jN34ETobz"
      }
    },
    {
      "cell_type": "code",
      "source": [
        "import torchvision.datasets as datasets"
      ],
      "metadata": {
        "id": "RxYPufGWDr8j"
      },
      "execution_count": 7,
      "outputs": []
    },
    {
      "cell_type": "code",
      "source": [
        "data_path = '/content/drive/MyDrive/archive-3/NotScreaming' #looking in subfolder train\n",
        "\n",
        "scream_dataset = datasets.ImageFolder(\n",
        "    root=data_path,\n",
        "    transform=transforms.Compose([transforms.Resize((64,862)),\n",
        "                                  transforms.ToTensor()])\n",
        ")"
      ],
      "metadata": {
        "colab": {
          "base_uri": "https://localhost:8080/",
          "height": 486
        },
        "id": "ArzHDBVxamYr",
        "outputId": "7792d6ce-c91f-436e-a620-bd7ae9d2a266"
      },
      "execution_count": 12,
      "outputs": [
        {
          "output_type": "error",
          "ename": "FileNotFoundError",
          "evalue": "Couldn't find any class folder in /content/drive/MyDrive/archive-3/NotScreaming.",
          "traceback": [
            "\u001b[0;31m---------------------------------------------------------------------------\u001b[0m",
            "\u001b[0;31mFileNotFoundError\u001b[0m                         Traceback (most recent call last)",
            "\u001b[0;32m<ipython-input-12-82b376d44c89>\u001b[0m in \u001b[0;36m<cell line: 3>\u001b[0;34m()\u001b[0m\n\u001b[1;32m      1\u001b[0m \u001b[0mdata_path\u001b[0m \u001b[0;34m=\u001b[0m \u001b[0;34m'/content/drive/MyDrive/archive-3/NotScreaming'\u001b[0m \u001b[0;31m#looking in subfolder train\u001b[0m\u001b[0;34m\u001b[0m\u001b[0;34m\u001b[0m\u001b[0m\n\u001b[1;32m      2\u001b[0m \u001b[0;34m\u001b[0m\u001b[0m\n\u001b[0;32m----> 3\u001b[0;31m scream_dataset = datasets.ImageFolder(\n\u001b[0m\u001b[1;32m      4\u001b[0m     \u001b[0mroot\u001b[0m\u001b[0;34m=\u001b[0m\u001b[0mdata_path\u001b[0m\u001b[0;34m,\u001b[0m\u001b[0;34m\u001b[0m\u001b[0;34m\u001b[0m\u001b[0m\n\u001b[1;32m      5\u001b[0m     transform=transforms.Compose([transforms.Resize((64,862)),\n",
            "\u001b[0;32m/usr/local/lib/python3.10/dist-packages/torchvision/datasets/folder.py\u001b[0m in \u001b[0;36m__init__\u001b[0;34m(self, root, transform, target_transform, loader, is_valid_file)\u001b[0m\n\u001b[1;32m    307\u001b[0m         \u001b[0mis_valid_file\u001b[0m\u001b[0;34m:\u001b[0m \u001b[0mOptional\u001b[0m\u001b[0;34m[\u001b[0m\u001b[0mCallable\u001b[0m\u001b[0;34m[\u001b[0m\u001b[0;34m[\u001b[0m\u001b[0mstr\u001b[0m\u001b[0;34m]\u001b[0m\u001b[0;34m,\u001b[0m \u001b[0mbool\u001b[0m\u001b[0;34m]\u001b[0m\u001b[0;34m]\u001b[0m \u001b[0;34m=\u001b[0m \u001b[0;32mNone\u001b[0m\u001b[0;34m,\u001b[0m\u001b[0;34m\u001b[0m\u001b[0;34m\u001b[0m\u001b[0m\n\u001b[1;32m    308\u001b[0m     ):\n\u001b[0;32m--> 309\u001b[0;31m         super().__init__(\n\u001b[0m\u001b[1;32m    310\u001b[0m             \u001b[0mroot\u001b[0m\u001b[0;34m,\u001b[0m\u001b[0;34m\u001b[0m\u001b[0;34m\u001b[0m\u001b[0m\n\u001b[1;32m    311\u001b[0m             \u001b[0mloader\u001b[0m\u001b[0;34m,\u001b[0m\u001b[0;34m\u001b[0m\u001b[0;34m\u001b[0m\u001b[0m\n",
            "\u001b[0;32m/usr/local/lib/python3.10/dist-packages/torchvision/datasets/folder.py\u001b[0m in \u001b[0;36m__init__\u001b[0;34m(self, root, loader, extensions, transform, target_transform, is_valid_file)\u001b[0m\n\u001b[1;32m    142\u001b[0m     ) -> None:\n\u001b[1;32m    143\u001b[0m         \u001b[0msuper\u001b[0m\u001b[0;34m(\u001b[0m\u001b[0;34m)\u001b[0m\u001b[0;34m.\u001b[0m\u001b[0m__init__\u001b[0m\u001b[0;34m(\u001b[0m\u001b[0mroot\u001b[0m\u001b[0;34m,\u001b[0m \u001b[0mtransform\u001b[0m\u001b[0;34m=\u001b[0m\u001b[0mtransform\u001b[0m\u001b[0;34m,\u001b[0m \u001b[0mtarget_transform\u001b[0m\u001b[0;34m=\u001b[0m\u001b[0mtarget_transform\u001b[0m\u001b[0;34m)\u001b[0m\u001b[0;34m\u001b[0m\u001b[0;34m\u001b[0m\u001b[0m\n\u001b[0;32m--> 144\u001b[0;31m         \u001b[0mclasses\u001b[0m\u001b[0;34m,\u001b[0m \u001b[0mclass_to_idx\u001b[0m \u001b[0;34m=\u001b[0m \u001b[0mself\u001b[0m\u001b[0;34m.\u001b[0m\u001b[0mfind_classes\u001b[0m\u001b[0;34m(\u001b[0m\u001b[0mself\u001b[0m\u001b[0;34m.\u001b[0m\u001b[0mroot\u001b[0m\u001b[0;34m)\u001b[0m\u001b[0;34m\u001b[0m\u001b[0;34m\u001b[0m\u001b[0m\n\u001b[0m\u001b[1;32m    145\u001b[0m         \u001b[0msamples\u001b[0m \u001b[0;34m=\u001b[0m \u001b[0mself\u001b[0m\u001b[0;34m.\u001b[0m\u001b[0mmake_dataset\u001b[0m\u001b[0;34m(\u001b[0m\u001b[0mself\u001b[0m\u001b[0;34m.\u001b[0m\u001b[0mroot\u001b[0m\u001b[0;34m,\u001b[0m \u001b[0mclass_to_idx\u001b[0m\u001b[0;34m,\u001b[0m \u001b[0mextensions\u001b[0m\u001b[0;34m,\u001b[0m \u001b[0mis_valid_file\u001b[0m\u001b[0;34m)\u001b[0m\u001b[0;34m\u001b[0m\u001b[0;34m\u001b[0m\u001b[0m\n\u001b[1;32m    146\u001b[0m \u001b[0;34m\u001b[0m\u001b[0m\n",
            "\u001b[0;32m/usr/local/lib/python3.10/dist-packages/torchvision/datasets/folder.py\u001b[0m in \u001b[0;36mfind_classes\u001b[0;34m(self, directory)\u001b[0m\n\u001b[1;32m    216\u001b[0m             \u001b[0;34m(\u001b[0m\u001b[0mTuple\u001b[0m\u001b[0;34m[\u001b[0m\u001b[0mList\u001b[0m\u001b[0;34m[\u001b[0m\u001b[0mstr\u001b[0m\u001b[0;34m]\u001b[0m\u001b[0;34m,\u001b[0m \u001b[0mDict\u001b[0m\u001b[0;34m[\u001b[0m\u001b[0mstr\u001b[0m\u001b[0;34m,\u001b[0m \u001b[0mint\u001b[0m\u001b[0;34m]\u001b[0m\u001b[0;34m]\u001b[0m\u001b[0;34m)\u001b[0m\u001b[0;34m:\u001b[0m \u001b[0mList\u001b[0m \u001b[0mof\u001b[0m \u001b[0mall\u001b[0m \u001b[0mclasses\u001b[0m \u001b[0;32mand\u001b[0m \u001b[0mdictionary\u001b[0m \u001b[0mmapping\u001b[0m \u001b[0meach\u001b[0m \u001b[0;32mclass\u001b[0m \u001b[0mto\u001b[0m \u001b[0man\u001b[0m \u001b[0mindex\u001b[0m\u001b[0;34m.\u001b[0m\u001b[0;34m\u001b[0m\u001b[0;34m\u001b[0m\u001b[0m\n\u001b[1;32m    217\u001b[0m         \"\"\"\n\u001b[0;32m--> 218\u001b[0;31m         \u001b[0;32mreturn\u001b[0m \u001b[0mfind_classes\u001b[0m\u001b[0;34m(\u001b[0m\u001b[0mdirectory\u001b[0m\u001b[0;34m)\u001b[0m\u001b[0;34m\u001b[0m\u001b[0;34m\u001b[0m\u001b[0m\n\u001b[0m\u001b[1;32m    219\u001b[0m \u001b[0;34m\u001b[0m\u001b[0m\n\u001b[1;32m    220\u001b[0m     \u001b[0;32mdef\u001b[0m \u001b[0m__getitem__\u001b[0m\u001b[0;34m(\u001b[0m\u001b[0mself\u001b[0m\u001b[0;34m,\u001b[0m \u001b[0mindex\u001b[0m\u001b[0;34m:\u001b[0m \u001b[0mint\u001b[0m\u001b[0;34m)\u001b[0m \u001b[0;34m->\u001b[0m \u001b[0mTuple\u001b[0m\u001b[0;34m[\u001b[0m\u001b[0mAny\u001b[0m\u001b[0;34m,\u001b[0m \u001b[0mAny\u001b[0m\u001b[0;34m]\u001b[0m\u001b[0;34m:\u001b[0m\u001b[0;34m\u001b[0m\u001b[0;34m\u001b[0m\u001b[0m\n",
            "\u001b[0;32m/usr/local/lib/python3.10/dist-packages/torchvision/datasets/folder.py\u001b[0m in \u001b[0;36mfind_classes\u001b[0;34m(directory)\u001b[0m\n\u001b[1;32m     40\u001b[0m     \u001b[0mclasses\u001b[0m \u001b[0;34m=\u001b[0m \u001b[0msorted\u001b[0m\u001b[0;34m(\u001b[0m\u001b[0mentry\u001b[0m\u001b[0;34m.\u001b[0m\u001b[0mname\u001b[0m \u001b[0;32mfor\u001b[0m \u001b[0mentry\u001b[0m \u001b[0;32min\u001b[0m \u001b[0mos\u001b[0m\u001b[0;34m.\u001b[0m\u001b[0mscandir\u001b[0m\u001b[0;34m(\u001b[0m\u001b[0mdirectory\u001b[0m\u001b[0;34m)\u001b[0m \u001b[0;32mif\u001b[0m \u001b[0mentry\u001b[0m\u001b[0;34m.\u001b[0m\u001b[0mis_dir\u001b[0m\u001b[0;34m(\u001b[0m\u001b[0;34m)\u001b[0m\u001b[0;34m)\u001b[0m\u001b[0;34m\u001b[0m\u001b[0;34m\u001b[0m\u001b[0m\n\u001b[1;32m     41\u001b[0m     \u001b[0;32mif\u001b[0m \u001b[0;32mnot\u001b[0m \u001b[0mclasses\u001b[0m\u001b[0;34m:\u001b[0m\u001b[0;34m\u001b[0m\u001b[0;34m\u001b[0m\u001b[0m\n\u001b[0;32m---> 42\u001b[0;31m         \u001b[0;32mraise\u001b[0m \u001b[0mFileNotFoundError\u001b[0m\u001b[0;34m(\u001b[0m\u001b[0;34mf\"Couldn't find any class folder in {directory}.\"\u001b[0m\u001b[0;34m)\u001b[0m\u001b[0;34m\u001b[0m\u001b[0;34m\u001b[0m\u001b[0m\n\u001b[0m\u001b[1;32m     43\u001b[0m \u001b[0;34m\u001b[0m\u001b[0m\n\u001b[1;32m     44\u001b[0m     \u001b[0mclass_to_idx\u001b[0m \u001b[0;34m=\u001b[0m \u001b[0;34m{\u001b[0m\u001b[0mcls_name\u001b[0m\u001b[0;34m:\u001b[0m \u001b[0mi\u001b[0m \u001b[0;32mfor\u001b[0m \u001b[0mi\u001b[0m\u001b[0;34m,\u001b[0m \u001b[0mcls_name\u001b[0m \u001b[0;32min\u001b[0m \u001b[0menumerate\u001b[0m\u001b[0;34m(\u001b[0m\u001b[0mclasses\u001b[0m\u001b[0;34m)\u001b[0m\u001b[0;34m}\u001b[0m\u001b[0;34m\u001b[0m\u001b[0;34m\u001b[0m\u001b[0m\n",
            "\u001b[0;31mFileNotFoundError\u001b[0m: Couldn't find any class folder in /content/drive/MyDrive/archive-3/NotScreaming."
          ]
        }
      ]
    },
    {
      "cell_type": "code",
      "source": [
        "import torchvision.datasets as datasets\n",
        "import torchvision.transforms as transforms\n",
        "\n",
        "# Define the path to your dataset\n",
        "data_path = '/content/drive/MyDrive/archive-3/NotScreaming'\n",
        "\n",
        "# Define the transforms\n",
        "transform = transforms.Compose([\n",
        "    transforms.Resize((64, 862)),\n",
        "    transforms.ToTensor()\n",
        "])\n",
        "\n",
        "# Load the dataset\n",
        "scream_dataset = datasets.ImageFolder(root=data_path, transform=transform)\n",
        "\n",
        "# Check the length of the dataset\n",
        "print(len(scream_dataset))\n"
      ],
      "metadata": {
        "colab": {
          "base_uri": "https://localhost:8080/",
          "height": 486
        },
        "id": "2iF9sxhZuS6i",
        "outputId": "625e622a-35a8-4c75-8d83-7fd990ad3564"
      },
      "execution_count": 14,
      "outputs": [
        {
          "output_type": "error",
          "ename": "FileNotFoundError",
          "evalue": "Couldn't find any class folder in /content/drive/MyDrive/archive-3/NotScreaming.",
          "traceback": [
            "\u001b[0;31m---------------------------------------------------------------------------\u001b[0m",
            "\u001b[0;31mFileNotFoundError\u001b[0m                         Traceback (most recent call last)",
            "\u001b[0;32m<ipython-input-14-992c61725f45>\u001b[0m in \u001b[0;36m<cell line: 14>\u001b[0;34m()\u001b[0m\n\u001b[1;32m     12\u001b[0m \u001b[0;34m\u001b[0m\u001b[0m\n\u001b[1;32m     13\u001b[0m \u001b[0;31m# Load the dataset\u001b[0m\u001b[0;34m\u001b[0m\u001b[0;34m\u001b[0m\u001b[0m\n\u001b[0;32m---> 14\u001b[0;31m \u001b[0mscream_dataset\u001b[0m \u001b[0;34m=\u001b[0m \u001b[0mdatasets\u001b[0m\u001b[0;34m.\u001b[0m\u001b[0mImageFolder\u001b[0m\u001b[0;34m(\u001b[0m\u001b[0mroot\u001b[0m\u001b[0;34m=\u001b[0m\u001b[0mdata_path\u001b[0m\u001b[0;34m,\u001b[0m \u001b[0mtransform\u001b[0m\u001b[0;34m=\u001b[0m\u001b[0mtransform\u001b[0m\u001b[0;34m)\u001b[0m\u001b[0;34m\u001b[0m\u001b[0;34m\u001b[0m\u001b[0m\n\u001b[0m\u001b[1;32m     15\u001b[0m \u001b[0;34m\u001b[0m\u001b[0m\n\u001b[1;32m     16\u001b[0m \u001b[0;31m# Check the length of the dataset\u001b[0m\u001b[0;34m\u001b[0m\u001b[0;34m\u001b[0m\u001b[0m\n",
            "\u001b[0;32m/usr/local/lib/python3.10/dist-packages/torchvision/datasets/folder.py\u001b[0m in \u001b[0;36m__init__\u001b[0;34m(self, root, transform, target_transform, loader, is_valid_file)\u001b[0m\n\u001b[1;32m    307\u001b[0m         \u001b[0mis_valid_file\u001b[0m\u001b[0;34m:\u001b[0m \u001b[0mOptional\u001b[0m\u001b[0;34m[\u001b[0m\u001b[0mCallable\u001b[0m\u001b[0;34m[\u001b[0m\u001b[0;34m[\u001b[0m\u001b[0mstr\u001b[0m\u001b[0;34m]\u001b[0m\u001b[0;34m,\u001b[0m \u001b[0mbool\u001b[0m\u001b[0;34m]\u001b[0m\u001b[0;34m]\u001b[0m \u001b[0;34m=\u001b[0m \u001b[0;32mNone\u001b[0m\u001b[0;34m,\u001b[0m\u001b[0;34m\u001b[0m\u001b[0;34m\u001b[0m\u001b[0m\n\u001b[1;32m    308\u001b[0m     ):\n\u001b[0;32m--> 309\u001b[0;31m         super().__init__(\n\u001b[0m\u001b[1;32m    310\u001b[0m             \u001b[0mroot\u001b[0m\u001b[0;34m,\u001b[0m\u001b[0;34m\u001b[0m\u001b[0;34m\u001b[0m\u001b[0m\n\u001b[1;32m    311\u001b[0m             \u001b[0mloader\u001b[0m\u001b[0;34m,\u001b[0m\u001b[0;34m\u001b[0m\u001b[0;34m\u001b[0m\u001b[0m\n",
            "\u001b[0;32m/usr/local/lib/python3.10/dist-packages/torchvision/datasets/folder.py\u001b[0m in \u001b[0;36m__init__\u001b[0;34m(self, root, loader, extensions, transform, target_transform, is_valid_file)\u001b[0m\n\u001b[1;32m    142\u001b[0m     ) -> None:\n\u001b[1;32m    143\u001b[0m         \u001b[0msuper\u001b[0m\u001b[0;34m(\u001b[0m\u001b[0;34m)\u001b[0m\u001b[0;34m.\u001b[0m\u001b[0m__init__\u001b[0m\u001b[0;34m(\u001b[0m\u001b[0mroot\u001b[0m\u001b[0;34m,\u001b[0m \u001b[0mtransform\u001b[0m\u001b[0;34m=\u001b[0m\u001b[0mtransform\u001b[0m\u001b[0;34m,\u001b[0m \u001b[0mtarget_transform\u001b[0m\u001b[0;34m=\u001b[0m\u001b[0mtarget_transform\u001b[0m\u001b[0;34m)\u001b[0m\u001b[0;34m\u001b[0m\u001b[0;34m\u001b[0m\u001b[0m\n\u001b[0;32m--> 144\u001b[0;31m         \u001b[0mclasses\u001b[0m\u001b[0;34m,\u001b[0m \u001b[0mclass_to_idx\u001b[0m \u001b[0;34m=\u001b[0m \u001b[0mself\u001b[0m\u001b[0;34m.\u001b[0m\u001b[0mfind_classes\u001b[0m\u001b[0;34m(\u001b[0m\u001b[0mself\u001b[0m\u001b[0;34m.\u001b[0m\u001b[0mroot\u001b[0m\u001b[0;34m)\u001b[0m\u001b[0;34m\u001b[0m\u001b[0;34m\u001b[0m\u001b[0m\n\u001b[0m\u001b[1;32m    145\u001b[0m         \u001b[0msamples\u001b[0m \u001b[0;34m=\u001b[0m \u001b[0mself\u001b[0m\u001b[0;34m.\u001b[0m\u001b[0mmake_dataset\u001b[0m\u001b[0;34m(\u001b[0m\u001b[0mself\u001b[0m\u001b[0;34m.\u001b[0m\u001b[0mroot\u001b[0m\u001b[0;34m,\u001b[0m \u001b[0mclass_to_idx\u001b[0m\u001b[0;34m,\u001b[0m \u001b[0mextensions\u001b[0m\u001b[0;34m,\u001b[0m \u001b[0mis_valid_file\u001b[0m\u001b[0;34m)\u001b[0m\u001b[0;34m\u001b[0m\u001b[0;34m\u001b[0m\u001b[0m\n\u001b[1;32m    146\u001b[0m \u001b[0;34m\u001b[0m\u001b[0m\n",
            "\u001b[0;32m/usr/local/lib/python3.10/dist-packages/torchvision/datasets/folder.py\u001b[0m in \u001b[0;36mfind_classes\u001b[0;34m(self, directory)\u001b[0m\n\u001b[1;32m    216\u001b[0m             \u001b[0;34m(\u001b[0m\u001b[0mTuple\u001b[0m\u001b[0;34m[\u001b[0m\u001b[0mList\u001b[0m\u001b[0;34m[\u001b[0m\u001b[0mstr\u001b[0m\u001b[0;34m]\u001b[0m\u001b[0;34m,\u001b[0m \u001b[0mDict\u001b[0m\u001b[0;34m[\u001b[0m\u001b[0mstr\u001b[0m\u001b[0;34m,\u001b[0m \u001b[0mint\u001b[0m\u001b[0;34m]\u001b[0m\u001b[0;34m]\u001b[0m\u001b[0;34m)\u001b[0m\u001b[0;34m:\u001b[0m \u001b[0mList\u001b[0m \u001b[0mof\u001b[0m \u001b[0mall\u001b[0m \u001b[0mclasses\u001b[0m \u001b[0;32mand\u001b[0m \u001b[0mdictionary\u001b[0m \u001b[0mmapping\u001b[0m \u001b[0meach\u001b[0m \u001b[0;32mclass\u001b[0m \u001b[0mto\u001b[0m \u001b[0man\u001b[0m \u001b[0mindex\u001b[0m\u001b[0;34m.\u001b[0m\u001b[0;34m\u001b[0m\u001b[0;34m\u001b[0m\u001b[0m\n\u001b[1;32m    217\u001b[0m         \"\"\"\n\u001b[0;32m--> 218\u001b[0;31m         \u001b[0;32mreturn\u001b[0m \u001b[0mfind_classes\u001b[0m\u001b[0;34m(\u001b[0m\u001b[0mdirectory\u001b[0m\u001b[0;34m)\u001b[0m\u001b[0;34m\u001b[0m\u001b[0;34m\u001b[0m\u001b[0m\n\u001b[0m\u001b[1;32m    219\u001b[0m \u001b[0;34m\u001b[0m\u001b[0m\n\u001b[1;32m    220\u001b[0m     \u001b[0;32mdef\u001b[0m \u001b[0m__getitem__\u001b[0m\u001b[0;34m(\u001b[0m\u001b[0mself\u001b[0m\u001b[0;34m,\u001b[0m \u001b[0mindex\u001b[0m\u001b[0;34m:\u001b[0m \u001b[0mint\u001b[0m\u001b[0;34m)\u001b[0m \u001b[0;34m->\u001b[0m \u001b[0mTuple\u001b[0m\u001b[0;34m[\u001b[0m\u001b[0mAny\u001b[0m\u001b[0;34m,\u001b[0m \u001b[0mAny\u001b[0m\u001b[0;34m]\u001b[0m\u001b[0;34m:\u001b[0m\u001b[0;34m\u001b[0m\u001b[0;34m\u001b[0m\u001b[0m\n",
            "\u001b[0;32m/usr/local/lib/python3.10/dist-packages/torchvision/datasets/folder.py\u001b[0m in \u001b[0;36mfind_classes\u001b[0;34m(directory)\u001b[0m\n\u001b[1;32m     40\u001b[0m     \u001b[0mclasses\u001b[0m \u001b[0;34m=\u001b[0m \u001b[0msorted\u001b[0m\u001b[0;34m(\u001b[0m\u001b[0mentry\u001b[0m\u001b[0;34m.\u001b[0m\u001b[0mname\u001b[0m \u001b[0;32mfor\u001b[0m \u001b[0mentry\u001b[0m \u001b[0;32min\u001b[0m \u001b[0mos\u001b[0m\u001b[0;34m.\u001b[0m\u001b[0mscandir\u001b[0m\u001b[0;34m(\u001b[0m\u001b[0mdirectory\u001b[0m\u001b[0;34m)\u001b[0m \u001b[0;32mif\u001b[0m \u001b[0mentry\u001b[0m\u001b[0;34m.\u001b[0m\u001b[0mis_dir\u001b[0m\u001b[0;34m(\u001b[0m\u001b[0;34m)\u001b[0m\u001b[0;34m)\u001b[0m\u001b[0;34m\u001b[0m\u001b[0;34m\u001b[0m\u001b[0m\n\u001b[1;32m     41\u001b[0m     \u001b[0;32mif\u001b[0m \u001b[0;32mnot\u001b[0m \u001b[0mclasses\u001b[0m\u001b[0;34m:\u001b[0m\u001b[0;34m\u001b[0m\u001b[0;34m\u001b[0m\u001b[0m\n\u001b[0;32m---> 42\u001b[0;31m         \u001b[0;32mraise\u001b[0m \u001b[0mFileNotFoundError\u001b[0m\u001b[0;34m(\u001b[0m\u001b[0;34mf\"Couldn't find any class folder in {directory}.\"\u001b[0m\u001b[0;34m)\u001b[0m\u001b[0;34m\u001b[0m\u001b[0;34m\u001b[0m\u001b[0m\n\u001b[0m\u001b[1;32m     43\u001b[0m \u001b[0;34m\u001b[0m\u001b[0m\n\u001b[1;32m     44\u001b[0m     \u001b[0mclass_to_idx\u001b[0m \u001b[0;34m=\u001b[0m \u001b[0;34m{\u001b[0m\u001b[0mcls_name\u001b[0m\u001b[0;34m:\u001b[0m \u001b[0mi\u001b[0m \u001b[0;32mfor\u001b[0m \u001b[0mi\u001b[0m\u001b[0;34m,\u001b[0m \u001b[0mcls_name\u001b[0m \u001b[0;32min\u001b[0m \u001b[0menumerate\u001b[0m\u001b[0;34m(\u001b[0m\u001b[0mclasses\u001b[0m\u001b[0;34m)\u001b[0m\u001b[0;34m}\u001b[0m\u001b[0;34m\u001b[0m\u001b[0;34m\u001b[0m\u001b[0m\n",
            "\u001b[0;31mFileNotFoundError\u001b[0m: Couldn't find any class folder in /content/drive/MyDrive/archive-3/NotScreaming."
          ]
        }
      ]
    },
    {
      "cell_type": "code",
      "source": [
        "!ls /content/drive/MyDrive/archive-3/NotScreaming"
      ],
      "metadata": {
        "colab": {
          "base_uri": "https://localhost:8080/"
        },
        "id": "Ur5cP11xuoCk",
        "outputId": "956a94e7-8290-41ff-c0aa-c38d3b1a66c2"
      },
      "execution_count": 15,
      "outputs": [
        {
          "output_type": "stream",
          "name": "stdout",
          "text": [
            "01B907_Gyys_out.wav  ByNnZshszLM_out.wav  jkn29p1aLdI_out.wav  rF-N3jUEwHw_out.wav\n",
            "02JEvDAcq7U_out.wav  BYnYTgeM6Go_out.wav  JL58_-562kk_out.wav  Rg0HE_P3_4I_out.wav\n",
            "04RDcHpgzTM_out.wav  bYzFyPg9h9o_out.wav  JL8Nd1_O_8w_out.wav  Rg5bQBEoBL0_out.wav\n",
            "04SFLoexHDo_out.wav  Bz0dOmVS0KY_out.wav  JLrDktDYnRE_out.wav  rG8yf-Ph0VI_out.wav\n",
            "058Nv060Fz4_out.wav  BZ8srHfJ-aM_out.wav  Jlv0rZ3-Fh8_out.wav  rHFOwlMCdto_out.wav\n",
            "06IU9WsEp3s_out.wav  BZn_6borMY4_out.wav  _JM795qREAI_out.wav  rhG_ie69Nwc_out.wav\n",
            "088pGlFlgb4_out.wav  Bz-TAUdigNg_out.wav  jMalHZ-UfmI_out.wav  RIBawnOxIh0_out.wav\n",
            "08JpxCv_Bek_out.wav  BZXS6ZhiJ3Y_out.wav  jmN-c5mDxfw_out.wav  RiFZk9wpj9E_out.wav\n",
            "08U71rh7cDw_out.wav  C0C4BbUMkOY_out.wav  JmYb6JdnEiI_out.wav  rjIlkj5EA3Y_out.wav\n",
            "09_A89lHfNo_out.wav  c17qaD1UOfQ_out.wav  JNEw9YYeRmo_out.wav  RK337pbPmkQ_out.wav\n",
            "0ADfdHN1N2w_out.wav  C27eNiXJAHg_out.wav  JnPckYffxIs_out.wav  RLBM6-eyUNM_out.wav\n",
            "0aJ4ncKJqIg_out.wav  C2Ccv6reRU8_out.wav  JoFvd6SVJSM_out.wav  rlzDt4-6eo0_out.wav\n",
            "_0bN5mYLXb0_out.wav  c2WgoEz0MR4_out.wav  jOiDFKoH9Rs_out.wav  rlzTUDvJX4s_out.wav\n",
            "0e1wdxCx0ME_out.wav  C3msYakeZUE_out.wav  JoP-iqBMmi4_out.wav  rmprN7i_f_4_out.wav\n",
            "0E8p38QTjgI_out.wav  c3T1gWSVp6c_out.wav  JotcVa4XMLg_out.wav  rmVirt0T0jU_out.wav\n",
            "0-fd-lvizrY_out.wav  c40opYMsalk_out.wav  JOVfl5fhnQ0_out.wav  RmYtLdigEFc_out.wav\n",
            "0fIvxfWezRU_out.wav  C4amboojHTQ_out.wav  JPatstz0zt0_out.wav  rMyw3Jrdm7A_out.wav\n",
            "0FMdORf5iGs_out.wav  C4-_w6N3plU_out.wav  JPJ1ihGKi4M_out.wav  rNaVVn0PzeQ_out.wav\n",
            "0gcJJ_M3gP0_out.wav  c-85TtcfVSI_out.wav  JRA_eCk4tKY_out.wav  rNRxzgEcb44_out.wav\n",
            "0Gj0gGPGlMA_out.wav  c8YKxp3GNPI_out.wav  jrQ5heBPzgg_out.wav  Rns8RlXyOMg_out.wav\n",
            "0GQFYsxMP9Y_out.wav  C9_BUR8rGtE_out.wav  jsM5T7ywvLQ_out.wav  ROA6DMBPlNM_out.wav\n",
            "0hw_BB4QN34_out.wav  c9C74iJaS8o_out.wav  jttmgqitjMM_out.wav  roN_B9VVH0w_out.wav\n",
            "_0Jd6JJeyJ4_out.wav  c9JJ87c_x_I_out.wav  jTYzxbD1erg_out.wav  roxImnh9YTI_out.wav\n",
            "0KXc1iKGh7s_out.wav  c9_MK8mMnO8_out.wav  jU_RBZd9hfM_out.wav  ROY9GRcZbG4_out.wav\n",
            "0l8d_NhvFwY_out.wav  C9Ot0lN_Sew_out.wav  JV31wOPhVaU_out.wav  RpyW3yHn5nU_out.wav\n",
            "_0M9Tl1fx4Y_out.wav  C9SbW7DnSho_out.wav  JvJ7QKMhQew_out.wav  rQcecqZtGvE_out.wav\n",
            "0olOcmJ0ceg_out.wav  CAgSzHkGzwQ_out.wav  jVYh6vc73oE_out.wav  RqY-5iN986o_out.wav\n",
            "0PWLf2cAkU8_out.wav  cAJRD12KObA_out.wav  JwBJ2WaVp9M_out.wav  rQZOndx4yQk_out.wav\n",
            "0q-80dzp6PU_out.wav  cAMYLjd6cPk_out.wav  jwbQ60-plVg_out.wav  rrAIuGMTqtA_out.wav\n",
            "0qUXJz4HH_E_out.wav  cAU5LJKl3HU_out.wav  JWGrOPsU6W0_out.wav  rraQrgfzLx8_out.wav\n",
            "0qZ3tI4nAZE_out.wav  Cb0aBG6aH0s_out.wav  JXnqIBxioD0_out.wav  rRzO2k3Pn4U_out.wav\n",
            "0SP01BfLUOo_out.wav  cBLs2YQ0sY0_out.wav  JXS5eW7g4HY_out.wav  RSZZB_en5Pk_out.wav\n",
            "0suNPEw298g_out.wav  cBqcFcMCdGI_out.wav  jykK0gPm9QA_out.wav  rt3Y5n2OUvA_out.wav\n",
            "0SypBcVpZ0E_out.wav  ccsgja0XsWE_out.wav  jYTg7dmsrpo_out.wav  RTKrmcS2BWs_out.wav\n",
            "0Uf9LM840vA_out.wav  CcXfe1xEuhA_out.wav  JYYfw3id3ek_out.wav  R-tLy9DXLlI_out.wav\n",
            "0_utuoBWKmo_out.wav  ccxR7g7TUlw_out.wav  Jz4wLRDTF54_out.wav  _rUBB3GVWVs_out.wav\n",
            "0uWEnGBLjXI_out.wav  cdUk-F-5NCI_out.wav  jzfKPQzXD5M_out.wav  RUGXRIiwH0Q_out.wav\n",
            "0vjJHHSeCqM_out.wav  ce03XKuyDtk_out.wav  JzJCn-puzS4_out.wav  Rvd3kZDrTss_out.wav\n",
            "0vxnu9MTHg8_out.wav  CEfpUeWuN2Q_out.wav  JzPqdoLFj8U_out.wav  RX5jaZv52rQ_out.wav\n",
            "0w1DJl3BCrY_out.wav  cEHnqMIacho_out.wav  j_ZwYJNu5mE_out.wav  rY9zjr9T_WI_out.wav\n",
            "0W69ei8lbec_out.wav  CelxGPZvoyw_out.wav  k0kU2cc85ZA_out.wav  rZ0bEa58Zpg_out.wav\n",
            "0WmHby5gfSo_out.wav  CEo4XP3Mb3M_out.wav  k0o-7BhsNBI_out.wav  rZaOhi-iCFw_out.wav\n",
            "0xbuSI6TkmM_out.wav  Ce-Xok6SRPU_out.wav  K0Szy2gDHmg_out.wav  rzWvQwT7irw_out.wav\n",
            "0yRn5wEopkQ_out.wav  CFib-0PA3DY_out.wav  k3ep6MFhINI_out.wav  S1kmICsMnFU_out.wav\n",
            "0ZdquGB7riA_out.wav  cFn-NobVaoI_out.wav  k-4Q_ZC3T9U_out.wav  S1vywaIbQGY_out.wav\n",
            "10dur7jhFQM_out.wav  -CgdUiJaNdU_out.wav  K4W-60i_RSU_out.wav  s2m6oNtNwdo_out.wav\n",
            "16VxjI3ubJs_out.wav  cGFno5Gct2A_out.wav  k6F3gc8f8kI_out.wav  s3BzHO0mT5s_out.wav\n",
            "194N_h5CGzA_out.wav  CgMtYzbXFG4_out.wav  k7MYn0Y9pyY_out.wav  S4bUmXQ7Bis_out.wav\n",
            "19Pp9QEw17U_out.wav  CgNKbp-L0Jk_out.wav  K8B4q365KD4_out.wav  S55oQEPL0ew_out.wav\n",
            "1aiMcQqOIO4_out.wav  cGrQw46ftj0_out.wav  kaI31euhEYE_out.wav  S5-CkzJXxng_out.wav\n",
            "1blEjTegTzY_out.wav  cHfPCPrffSQ_out.wav  kAUv1B-_wGc_out.wav  s5wdG7xbTNg_out.wav\n",
            "1BQW0MFUhL8_out.wav  cHQlTp38KAI_out.wav  KBCFOaeH9XQ_out.wav  S6DMbrpfvSg_out.wav\n",
            "1BTJQY-2OwY_out.wav  ChuWtkDQIn4_out.wav  KbDLu4VozGg_out.wav  s7QetgNncv4_out.wav\n",
            "1cFHCB6bR8I_out.wav  cHx0iJ9RA54_out.wav  KbiFSfj_BcA_out.wav  S8M-ezF9qg0_out.wav\n",
            "1CouJesdH7M_out.wav  Ci5P7PUGPBE_out.wav  kBiMvkd1kF4_out.wav  s9Dx_Gq_AQI_out.wav\n",
            "1_cwgiVIRJw_out.wav  ciA5JKwwYW0_out.wav  KbJPiuS7TxA_out.wav  SA47EtIvomY_out.wav\n",
            "1da8Qc9hXSw_out.wav  CIfMy9PFlz0_out.wav  KcNWLIpv8gc_out.wav  SaRyJUpBNv4_out.wav\n",
            "1E256RRhLus_out.wav  CircEnRmONY_out.wav  kDgS1_gG0tA_out.wav  sAypnmdiCEk_out.wav\n",
            "1ei2Ha64te4_out.wav  cJ80eZY03Yg_out.wav  KDuusOmEMHg_out.wav  SbeAv16sVCk_out.wav\n",
            "1et9yT2BYD0_out.wav  C_Jr3E35-mA_out.wav  KDXBLO8Cb7I_out.wav  SBK3maOWbU8_out.wav\n",
            "1fGqrFRMknY_out.wav  cjTrK-kA6x0_out.wav  kEkwg88O_t8_out.wav  SbmANykduh4_out.wav\n",
            "1fJNudB6faA_out.wav  cKBekkF-cdo_out.wav  k_ET0i2y0Ow_out.wav  sBPkw3u6yNg_out.wav\n",
            "1G3TdBrW7ys_out.wav  Ck_bvV8Aa-k_out.wav  KgBWxziCVbQ_out.wav  Scs63YXjViM_out.wav\n",
            "1h2sb2xeCt8_out.wav  cKK0oZrwed8_out.wav  kGKJAXP9Oq4_out.wav  scUEjO0ERX4_out.wav\n",
            "1hizec7Ei2Y_out.wav  CKO35LsM0XI_out.wav  KgMD2_Yhw7Y_out.wav  SCzzbhIGPw0_out.wav\n",
            "1hJB8Fg5UKI_out.wav  Cl3gwhRuVs0_out.wav  KhCQ8zH8yKU_out.wav  sDm26mR2cOU_out.wav\n",
            "1iHxGeL7LHI_out.wav  clC3ld6rJVU_out.wav  KhoOgOTJK_M_out.wav  SejQCsHzBMk_out.wav\n",
            "1j3pXUr8R4M_out.wav  CM2rKZmcR0I_out.wav  KHpF2LzWHfQ_out.wav  SelikmBtyfQ_out.wav\n",
            "1kodCcFED6E_out.wav  CM7jMnBXw2Y_out.wav  -KiAK66YwW8_out.wav  SEQ9Sz0UCl8_out.wav\n",
            "1KtITWt8BTI_out.wav  cmacslkQXVc_out.wav  kJehPn6_sbs_out.wav  sFMVdYa3plI_out.wav\n",
            "1lF4g89LKmc_out.wav  cMhajmOBr0c_out.wav  KJF1deXG8mc_out.wav  SFOBjWoQkjU_out.wav\n",
            "1ls3ectO1F4_out.wav  cmJj7SxQEp8_out.wav  kjmZxGc7GjU_out.wav  SfrKwe01ufs_out.wav\n",
            "1mB_cboJR8s_out.wav  c-myXK9NJWQ_out.wav  kjRZTQGDY5I_out.wav  sf_Y4QGc5-4_out.wav\n",
            "1mOxqUT_AKc_out.wav  CneVBi4y1Cw_out.wav  kJT6o3gRQgQ_out.wav  sG3Z4mGbIyY_out.wav\n",
            "1nF0Pv-VBSc_out.wav  cnHTstEM0XY_out.wav  kj-ztpj4FO8_out.wav  sg8zVaVhong_out.wav\n",
            "1O4LpU7HggY_out.wav  cOCjxcsjcZM_out.wav  kK8cySUL-vc_out.wav  sgs0pr3vzbM_out.wav\n",
            "1ObHezZoZ1I_out.wav  COe52lCaNPk_out.wav  KkD7L5SWNN4_out.wav  SHkWMdXMukw_out.wav\n",
            "1puLrugy32w_out.wav  cp4pgMOugbo_out.wav  kkdZ_qz_Rjw_out.wav  SIBMc9ZDLag_out.wav\n",
            "1qAvaKlkJis_out.wav  CphodUaGuuQ_out.wav  KKgYvcfrxj4_out.wav  SiNtnJ91nK4_out.wav\n",
            "1qBjFpRa0LA_out.wav  Cpvskfe75FM_out.wav  kKhn_C1LwF0_out.wav  sJXft-YIVG0_out.wav\n",
            "1rIGVjzpPmU_out.wav  CqFBXaDXDkI_out.wav  KKiGJm9_He8_out.wav  SkvCT3NxDa4_out.wav\n",
            "1rufRTZ2XJA_out.wav  Cqfsp6kf3DQ_out.wav  kkOGbgGJLF4_out.wav  SkxBwwn12wk_out.wav\n",
            "1SF8aPE89dM_out.wav  -cQ-jUTEgck_out.wav  Klm5VqKvIUE_out.wav  sL01xTmV_Fc_out.wav\n",
            "1SO5RJLWKAs_out.wav  cQrcwFXs4hM_out.wav  KlVkArn952g_out.wav  sL11iroEgfo_out.wav\n",
            "1SS3-D-Aqr4_out.wav  CqtknE729Lw_out.wav  kMmjr8deHis_out.wav  sLUW8bnYzSg_out.wav\n",
            "1T5zVWMT3dM_out.wav  crfMqQ6WyDM_out.wav  KndN0lZO7HE_out.wav  sm4bvVj-Xkc_out.wav\n",
            "1TGd0asihZw_out.wav  cRQeAJabx0c_out.wav  KOb-tRHYK68_out.wav  sMNuJy4f4A0_out.wav\n",
            "1_U3ijFPbIE_out.wav  crtrt0HbAtg_out.wav  koDSoxkJyJg_out.wav  snarUr9LmJk_out.wav\n",
            "1uNaFYVRGjg_out.wav  ctfKr5HIcFc_out.wav  KOgBlhR57tk_out.wav  SNIFfgGtMGY_out.wav\n",
            "_1VZUONWYm4_out.wav  ctJI7pCbxAo_out.wav  KOS5gxwxFlI_out.wav  SnXfFeqhFY4_out.wav\n",
            "1XgdKTfy1Pw_out.wav  CU_l9xDeKsg_out.wav  koV7h_P3_cg_out.wav  so8kLYa008E_out.wav\n",
            "1Xm4os2ugaA_out.wav  CVcySsjK8Es_out.wav  _kPmYc1nXuQ_out.wav  sOaHq6kNIno_out.wav\n",
            "1y1lEOGBcWM_out.wav  -cVFtuOI5uo_out.wav  kQ5KzRQ_e7E_out.wav  SOhN5XBtpHA_out.wav\n",
            "1y7lQSNaMjw_out.wav  cVxS2FAacrY_out.wav  KqVPfLZaRpc_out.wav  sOJSjVp6UTc_out.wav\n",
            "1ypKEH2kd7g_out.wav  cW8p16bZOEA_out.wav  KRGULadmD0A_out.wav  SP7hOd7odrs_out.wav\n",
            "1YwsFFOZ1bY_out.wav  cWvVN0gxrFA_out.wav  KRIqwSOeVXU_out.wav  SpEmEr3lJjQ_out.wav\n",
            "1ZekxAeKfPc_out.wav  cX1OaYkfJo0_out.wav  KRrxM24OyPg_out.wav  spGt_FyvDrk_out.wav\n",
            "1zF2W8JxFK4_out.wav  cxB37P_ax8I_out.wav  kseqhhdlsg0_out.wav  sQMzHk9MRAI_out.wav\n",
            "1ZKP87P82CY_out.wav  cXDL6_3gFu0_out.wav  kTIODjbekGg_out.wav  sQVqtm6RKQ0_out.wav\n",
            "20eBcFsFL0w_out.wav  CXFCW_AHFCk_out.wav  KTrW_NFsXwA_out.wav  -sSVQrnvyIk_out.wav\n",
            "21hoAaR-W_c_out.wav  CxgVq6eovRU_out.wav  kU5_oNlg1tE_out.wav  STFuMdG46m4_out.wav\n",
            "21L0pyts9WI_out.wav  CxRRlAYZfvI_out.wav  KuIoTPeISWI_out.wav  StsMliJkaYk_out.wav\n",
            "21ZXw4B2-5M_out.wav  CXrs-ULjE4E_out.wav  kuj0Oi2_7yU_out.wav  StuVq5ZnlsY_out.wav\n",
            "240RfDRitx8_out.wav  cYdq2fjRhcg_out.wav  KurvLmoKCog_out.wav  su8o__goGeU_out.wav\n",
            "244y56-vLWE_out.wav  cyjPCkJcaXU_out.wav  kVaQA3PhSio_out.wav  suCjtFaA8Lw_out.wav\n",
            "24cmo2fEQo8_out.wav  CYn0BPhowYs_out.wav  KvDpzwjdVts_out.wav  sug2_D2cRjk_out.wav\n",
            "256NgMW4tQw_out.wav  CYZZIkEw_jY_out.wav  Kvji2qGegPY_out.wav  SUGR3t9W73o_out.wav\n",
            "25TiEJB46Qg_out.wav  Czce7Qreg0k_out.wav  kw2wPVxUgQY_out.wav  SVSBo065hmw_out.wav\n",
            "26yyv3N4adw_out.wav  CZmiS6QsfJU_out.wav  KW_ZJePxxBI_out.wav  SVSjNao4ZFQ_out.wav\n",
            "28oK-ruIvVw_out.wav  CZysUOZ1B7M_out.wav  KxJMpfBmy0Y_out.wav  Sw5kOYVwjFQ_out.wav\n",
            "-28U1_qW0sU_out.wav  D05sefx0n2U_out.wav  KXJzOJlfK5M_out.wav  SwdhfGXkMCo_out.wav\n",
            "2a6tud6C4JQ_out.wav  D0jb5qpJFag_out.wav  KXyMGm1pDW4_out.wav  sXk39l_oB64_out.wav\n",
            "2aUWpuKZ-GQ_out.wav  D0M-XV6EkSs_out.wav  kyTQBpg2-rc_out.wav  sxuDrPSDAeY_out.wav\n",
            "2bR0IRhqpNM_out.wav  D14QMp6dz0U_out.wav  KzhxH7ZecYg_out.wav  sYB1vWswqLk_out.wav\n",
            "2byI2Geq80k_out.wav  D3q_stCeCA8_out.wav  KzMQOZ59_V0_out.wav  sYgg04NMHFU_out.wav\n",
            "2CB3aKePbXM_out.wav  D5bKWR8nr4Y_out.wav  KzysnaV09xg_out.wav  sYJiHxmQWjo_out.wav\n",
            "2dTAlTkrHy0_out.wav  D5ebkJwpPrg_out.wav  l08Nz9qlbIE_out.wav  SYVcaQ1Bzu8_out.wav\n",
            "2DtIskP6SN0_out.wav  d-6916mMj_I_out.wav  L0wBWDNZeJo_out.wav  SZa8UQ0XAW4_out.wav\n",
            "2E346_XUqKg_out.wav  D7-J_A8zf2k_out.wav  L1fxVVl_1bM_out.wav  t05lg7ASVYg_out.wav\n",
            "2E_cfP2PLUQ_out.wav  D7RPMA2sxA0_out.wav  L1kMJIKSEQc_out.wav  T0PqOA875v4_out.wav\n",
            "2fs8yWC0TZA_out.wav  D7WIcFJ1Ye4_out.wav  l1mqdZr3XEU_out.wav  T0uoYE12cnI_out.wav\n",
            "2hgvuYGc95o_out.wav  D8tPjS55ujU_out.wav  L1Sio71KKAs_out.wav  T1cYDKFI1is_out.wav\n",
            "2hknZzpOCFM_out.wav  D8zK7PHIkgA_out.wav  l2T6QdLMgN4_out.wav  T1QnEyqO92w_out.wav\n",
            "2hTPehEuBsQ_out.wav  d9r_kYpOvW8_out.wav  L2uGhBTTgUI_out.wav  T2pIUdaDMuA_out.wav\n",
            "2_HZ_m5pBjI_out.wav  DaD0gvQnqyo_out.wav  l3ARyo7yFzo_out.wav  T-2QqkJi2Ec_out.wav\n",
            "2iJrP2mUmRk_out.wav  dakJh2CdT9Q_out.wav  L3d4ajg0bhk_out.wav  t3Y9Za9roJM_out.wav\n",
            "2lBZ6yPW9WU_out.wav  dam6Fh1rlmA_out.wav  l3M_6Ofd5_Q_out.wav  T5CiDF-wAmg_out.wav\n",
            "2MGsPzzb4yA_out.wav  DBGoQrJIBHI_out.wav  L3Xr_NVi7UM_out.wav  t5P_HJrrD64_out.wav\n",
            "2MIXPd5lbc4_out.wav  DBp853aSoHw_out.wav  L4HuIzg6Tlw_out.wav  T5pzn0UZViU_out.wav\n",
            "2ModUhHZVCU_out.wav  _dC8CtfWaoM_out.wav  l4rbQ0x6Xqw_out.wav  t6Lj3sfrJzg_out.wav\n",
            "2n13-18I_nM_out.wav  DCBOS2UWKAA_out.wav  l5sbP_vmgl8_out.wav  _T6WI46n4HI_out.wav\n",
            "2nd27vVGg8k_out.wav  dCMBQWvkDek_out.wav  l5zTlQmj5R4_out.wav  t6XtW3SHQNE_out.wav\n",
            "2nS_rk1118M_out.wav  DDC_PBDsiSI_out.wav  l6BkB2mTkRE_out.wav  T7bG4kIEw-M_out.wav\n",
            "2o4keWihEsQ_out.wav  DdSgYm2ZwAw_out.wav  l8P2wU-JyI8_out.wav  T7khbuOBHbo_out.wav\n",
            "2QQX3Wvigg4_out.wav  DD_y5WCr9CA_out.wav  L9cNzJUOYuk_out.wav  T8NpPX6sWqs_out.wav\n",
            "2r65xKhUEsc_out.wav  DemqL00CVVQ_out.wav  L9GXrmmlYhE_out.wav  T8U3ihbHh9A_out.wav\n",
            "2SenLjPbGzU_out.wav  dfkIuCrUAyA_out.wav  L9Jh81RHpJ4_out.wav  t8uF3PZ3KGQ_out.wav\n",
            "2tjEckdpSW0_out.wav  dfMDpU9t5G0_out.wav  LarTAxztpF4_out.wav  t9jBxSENxxI_out.wav\n",
            "2UnlMwW8nyI_out.wav  DFPu83ggTlM_out.wav  lbfGgEGddak_out.wav  tafhxGyuQP4_out.wav\n",
            "2VApTcm7Enk_out.wav  dHDosntsNho_out.wav  lBRm04QHtxY_out.wav  taMA2HEaA_U_out.wav\n",
            "2VqKshkkHLU_out.wav  DHsm756LKsA_out.wav  lcgKlZ1xFGk_out.wav  TArWNq2retM_out.wav\n",
            "2w2zPDq5ekE_out.wav  di8GWxedDIE_out.wav  lCiZ8pMnLV4_out.wav  tbnhnN-Ffe8_out.wav\n",
            "2W6YgQeEr8U_out.wav  dIeSPmawTDE_out.wav  lczsLSLFbQ4_out.wav  TC4mH6nACm8_out.wav\n",
            "2WAXjQTP1rg_out.wav  DiVHBtHrr7I_out.wav  lDbgDRNmhYs_out.wav  TcoRmHHHNgI_out.wav\n",
            "2WPDeqsxGvI_out.wav  -Dj2PfPmynQ_out.wav  lDGQu122JdU_out.wav  tcvHxsqSb6M_out.wav\n",
            "2XC0ckiiuq4_out.wav  dj-DWiV1z9g_out.wav  lDK7IOxB-aY_out.wav  TDIiZpixlJY_out.wav\n",
            "2XFwH-VGWjU_out.wav  DJuJhFRWBYE_out.wav  Le4aGNS8e0c_out.wav  tdTT6rmkk9M_out.wav\n",
            "2Xnc637w_VQ_out.wav  dkaPAIFCE-c_out.wav  LefXwJz6HCA_out.wav  tDVOUsG52Jw_out.wav\n",
            "2XP6Q2CXB-w_out.wav  DkEqJe6C7ec_out.wav  leiPemYDg-8_out.wav  TdvwUwpYYos_out.wav\n",
            "2YjgcnIKUmc_out.wav  dlBO8GIs3F8_out.wav  lEvAQajbphM_out.wav  -Tea8DpWZQM_out.wav\n",
            "2zcTgyGpens_out.wav  dlmoKkH8hlw_out.wav  LfwZECxUhtQ_out.wav  TeCyk6sZU0M_out.wav\n",
            "2ZfwEg4JaiU_out.wav  DLMRjbqrdRk_out.wav  LG2sysSMfkg_out.wav  TehjTZRy48o_out.wav\n",
            "2zrPFxxT1VM_out.wav  dlpHYGmA4sM_out.wav  _lGsMYx8ezI_out.wav  TEWYFkjH2jc_out.wav\n",
            "2ZsfWLLr7l0_out.wav  DLQKrdxysgc_out.wav  lH6qxlpytrQ_out.wav  tFa6Jrsmx9c_out.wav\n",
            "30tNWUyJCog_out.wav  dm8PaPJvrJ8_out.wav  lhizlCmlbYY_out.wav  TFaUIs6HZEg_out.wav\n",
            "3118atGksP8_out.wav  DMwvY--3XD0_out.wav  lHtpt1QwjBo_out.wav  tfkEhaE_j8M_out.wav\n",
            "33_enN0Bsfs_out.wav  dnBZpY51lTE_out.wav  liEXSOiURY8_out.wav  TFYTvs7ctHg_out.wav\n",
            "34fXnEXB6V0_out.wav  D-ncgNqkSRU_out.wav  lIk_-vI43S8_out.wav  tfZ9DhoR7dA_out.wav\n",
            "38d6TZm7vYw_out.wav  DndWzbgvKws_out.wav  LInORs90ppQ_out.wav  TgOr_C6xP6U_out.wav\n",
            "39MksqVeLdY_out.wav  dnlKxBTzMQ8_out.wav  LJ0RTahP_DU_out.wav  ThF0NS3ejok_out.wav\n",
            "3BSs5JNCc90_out.wav  DnMM-2EQSQc_out.wav  l-j82fp24_U_out.wav  TiFboW8mqd4_out.wav\n",
            "3B-YYTbpFZE_out.wav  dozVxfTca2s_out.wav  lk0rG_B4In8_out.wav  TIn9cxfbpTY_out.wav\n",
            "3-CCfu740HE_out.wav  dP5s4eRtfjI_out.wav  L-K7mnGzx9Y_out.wav  TiZXWRhsMX8_out.wav\n",
            "3cEQfNZ_F1w_out.wav  DPW5M1FYxu4_out.wav  LkBEEJi_igo_out.wav  tJWduBZRJkE_out.wav\n",
            "3CHRBNz3-rI_out.wav  DQ-uU0ueEBA_out.wav  LkcaWTmEsvY_out.wav  TkkLNOxVjXA_out.wav\n",
            "3dh5bfCN4Hs_out.wav  DqvZwo2qhIo_out.wav  L_KkjB0Wt_Q_out.wav  TLG9DheSh-c_out.wav\n",
            "3dw4ETcqtQk_out.wav  dRqTAJlBl-g_out.wav  lkMoYvWdTaw_out.wav  TlZINTHudT0_out.wav\n",
            "3gUjuS5TzwI_out.wav  dRvVBKLxCgU_out.wav  lLFTdmM7nSE_out.wav  tMNqBc5ecUU_out.wav\n",
            "3H4hqMl7A30_out.wav  DS13-KbbDCs_out.wav  lMBDn8ExqCI_out.wav  tMUVHanx9lc_out.wav\n",
            "3HtfWSbmuAc_out.wav  ds6kMtDMjaw_out.wav  LMC-xXt6A1g_out.wav  -tmY1GEH3_Y_out.wav\n",
            "3IX3FxeKkQg_out.wav  DSa3YoTNoZA_out.wav  LMzTjjnxaSY_out.wav  tnSM-SnE5Lk_out.wav\n",
            "3jjgLWf4i3I_out.wav  dT7uHHQEYHQ_out.wav  LMZzvqMZGqw_out.wav  TO5qHEhH3Uc_out.wav\n",
            "3jLef5eHgzU_out.wav  -Dtir74TiUM_out.wav  Ln3CVQnxz8A_out.wav  tOnbheVe0nI_out.wav\n",
            "3jWca5m53qg_out.wav  DTtm0QxR-Ew_out.wav  lnCCP97BCeI_out.wav  ToxWgj3_Zgw_out.wav\n",
            "3KdyWJ6wTOw_out.wav  DTXsmh43fzw_out.wav  lNnj9q0oVLY_out.wav  TP1cBAI6qZ0_out.wav\n",
            "3Mqpvn9WEhE_out.wav  DueNcVFHI0k_out.wav  lNqK6lfAexI_out.wav  TPGgOyJVZDw_out.wav\n",
            "3NAqH9LYDyU_out.wav  DV5mynb77JM_out.wav  LntRa22QbrE_out.wav  tRGV2rMjuKc_out.wav\n",
            "3nctZAcB24g_out.wav  DvX1fVxz3lI_out.wav  LOetNqcZB5c_out.wav  TS-ep4lVq_4_out.wav\n",
            "3OF_E-cL9j4_out.wav  DW7KmFeBnVc_out.wav  lomPk1cKptE_out.wav  ttIeifVcqd4_out.wav\n",
            "3OLeJZF4oI0_out.wav  DW7Qe-50X_A_out.wav  lPCl9s_Ea8A_out.wav  tTtuoCraB1Y_out.wav\n",
            "3rxt6r8Gi3I_out.wav  DwyOjLK00jQ_out.wav  LPIz2oq1bPw_out.wav  Tu7BtoQPd98_out.wav\n",
            "3sApQ80QRiE_out.wav  DXd83S6NHLg_out.wav  lR_7_vKZbMw_out.wav  tUJ_ZniLjhc_out.wav\n",
            "3W9GRWaRJPo_out.wav  DXeiJpZXVAI_out.wav  lRC2lurjPBw_out.wav  tULRJuvXeyU_out.wav\n",
            "3X4t1yXiR64_out.wav  DxoK01Swurg_out.wav  LR_sHbzW5dc_out.wav  tuoBmxts5Xo_out.wav\n",
            "3Xj6hGjwaUc_out.wav  dXQdnWlFkio_out.wav  lRZcTLOAfdc_out.wav  tW7478HnmCs_out.wav\n",
            "3Xoz87_SUdw_out.wav  -dYTGqyVFNM_out.wav  lSU8J5Z1LwQ_out.wav  TWV3YLscSaw_out.wav\n",
            "3y7suvz_pHw_out.wav  DytM8WDRqwg_out.wav  lTAfSpsyTSI_out.wav  tWwvTUm9RXs_out.wav\n",
            "3yerZ2bS57g_out.wav  DYVxOjG2nvw_out.wav  LTaJhm98DzQ_out.wav  tWxeUTLGrZ0_out.wav\n",
            "3YqNm3QaCjk_out.wav  DZcd3Esg2z8_out.wav  lTGJX5f2scI_out.wav  TwYgQ7GXtfA_out.wav\n",
            "3z5S5G8HSIo_out.wav  -E013cWxoMo_out.wav  LTG-uVV_6q0_out.wav  Ty82EdVePSc_out.wav\n",
            "_3zEO-HtX8o_out.wav  E0WTUcp85_0_out.wav  lTuEsrVV6Uw_out.wav  tyAXjOihm6g_out.wav\n",
            "3Zt4Y3Jajrk_out.wav  e1CyYubSNzY_out.wav  lUp9WnLYetg_out.wav  tynjQtLDajY_out.wav\n",
            "3ZUHhSbQkGw_out.wav  E1teBONQl6U_out.wav  Lv1sAn_z5sM_out.wav  -T-ZI1MZ44g_out.wav\n",
            "3ZyuBJEbmJM_out.wav  e2FfgnQWCkA_out.wav  lVHopwH5tSE_out.wav  u1TsADIw4bE_out.wav\n",
            "41MtICTvZGM_out.wav  E4To9BC2jx8_out.wav  lVN5gCicLLA_out.wav  u1vff0lwD_M_out.wav\n",
            "42xehaGoJbc_out.wav  E4vMZ4hiP2c_out.wav  LvpImXJMryI_out.wav  u3UB7rhTmac_out.wav\n",
            "43kV0t2U3qQ_out.wav  e5KzMxbeA2Q_out.wav  LVvdskpFo28_out.wav  u3wiO29Rmt8_out.wav\n",
            "457KFDtoIPM_out.wav  E6B81rrUlnE_out.wav  LvyaAEFwBX4_out.wav  u3yOMK8SuRI_out.wav\n",
            "45ovArCxLMc_out.wav  e72T8VsMb4Q_out.wav  LwlGzB1oSUA_out.wav  u5NaH3uSG94_out.wav\n",
            "49euM-Fnkcg_out.wav  e78QzuLkfkY_out.wav  lXdmdwthNLc_out.wav  U5otMP8NDrY_out.wav\n",
            "4Aw79ZO3e3Y_out.wav  e7mWrx0BixM_out.wav  lxrDreCz5BE_out.wav  U_5ZaPrWcbM_out.wav\n",
            "4BL5beKDddI_out.wav  e85fHDAjlEA_out.wav  _LY8EpSdPrk_out.wav  u8ptJ3t-IgU_out.wav\n",
            "4bPmAyggQlo_out.wav  E9Dewvs_3Qk_out.wav  lYpPHXcWubc_out.wav  U8yqYlErUz8_out.wav\n",
            "4CMm1sNVmDM_out.wav  e9zpYoe_5t4_out.wav  lYtoy8sa-Q0_out.wav  u_9P1vOIMGg_out.wav\n",
            "4dcyo3VOmlA_out.wav  eab8WrL--q8_out.wav  lYVFsSFpsVw_out.wav  uaXJYW4ZuKk_out.wav\n",
            "4EiskLYtkO4_out.wav  EApLRczXPxc_out.wav  Lz3H84N-Xkc_out.wav  ub1tbOjpSvs_out.wav\n",
            "4ertekFHXbg_out.wav  EcEDVL6vn_w_out.wav  Lzec-fG2xwI_out.wav  UbiVRAl9pLo_out.wav\n",
            "4etFwaJofMg_out.wav  ecHgcc5MpyA_out.wav  LZjatOInQW0_out.wav  Ubj0jlheyvk_out.wav\n",
            "4gEmWJCPZGo_out.wav  -ECK_BisOLM_out.wav  M0svtym4nQc_out.wav  UbQED_SgLCM_out.wav\n",
            "4jBFGYHqdsE_out.wav  ECOMAbLI1V4_out.wav  m0vwa8RWzXg_out.wav  UdkBgE8tFRI_out.wav\n",
            "4KEMOwSoV4A_out.wav  ecS6SJGkhIw_out.wav  m1k9Selk_3I_out.wav  ueaANdi5em4_out.wav\n",
            "4kKVGPDCIK8_out.wav  eezaOfrLOkM_out.wav  M1vJId35M9w_out.wav  Uee5rSrKryQ_out.wav\n",
            "4kZ0EZg5JRU_out.wav  eFaU3xANLyQ_out.wav  M2AQ9e4yonI_out.wav  UEOUXjX5R2I_out.wav\n",
            "4Lk8pUeLCwQ_out.wav  efGICBEXQrA_out.wav  m3ea7VjRNR4_out.wav  UFAGCTDB7EY_out.wav\n",
            "4LpOwY7J8gY_out.wav  EfLeN6Bpksk_out.wav  m4bBsvuS4EU_out.wav  ufr3NGvQHhY_out.wav\n",
            "4ltNEyFGYrw_out.wav  EFlGHxV5WsY_out.wav  m4Mo4aXY0w4_out.wav  UFrUDQLfja0_out.wav\n",
            "4M0njWKFsME_out.wav  EGc41s7IIZ0_out.wav  m5QM9f_r4qY_out.wav  Ufw0P-xOrng_out.wav\n",
            "4mOTOTJLv5U_out.wav  egE9vaE50U0_out.wav  m6PtVTwG4UI_out.wav  UG9I752Mmdk_out.wav\n",
            "4n1JMHxLROw_out.wav  EglOwyqOyIY_out.wav  m6Q53Ouf0AM_out.wav  uGfd3xanwro_out.wav\n",
            "4nMtJDjPdgw_out.wav  Egn3JAfIYNY_out.wav  M7CLHAOM8Dw_out.wav  uGM6UYSIdj8_out.wav\n",
            "4npJrBtnceA_out.wav  egOBhLNMnTo_out.wav  M8R6-ZmWfr0_out.wav  uGXTHf8pgUI_out.wav\n",
            "4o0bARRMYQ8_out.wav  EHm7vLZewS0_out.wav  mAmaUI7_uZ0_out.wav  UhaLzBcz-Mk_out.wav\n",
            "4o2ciOY7aNI_out.wav  EIk1JyvtV-M_out.wav  maZ3b5w6xVI_out.wav  UHBHCsrqYMw_out.wav\n",
            "4oNe6C5sQU0_out.wav  eJbSPpCjXwc_out.wav  mBGGuMrp9ko_out.wav  UHYBH0Vn-2Y_out.wav\n",
            "4OUFnQ1ig7g_out.wav  eJKAe7dR_6w_out.wav  mBNvhnsEOrc_out.wav  Ui7cpdCF6iw_out.wav\n",
            "4OvgouW2OyA_out.wav  eJqy_Tt6mDc_out.wav  MBWwU5fP1Ws_out.wav  ui8tOIpmVwI_out.wav\n",
            "4P4ZlKN3DUg_out.wav  EJucDkHyC_U_out.wav  -mB_XLq6g1g_out.wav  uIE6dH5SaNU_out.wav\n",
            "4PuhZfPs8kc_out.wav  ek1ZTTDr1f4_out.wav  MC0Aeu7RLSI_out.wav  UJqnJ6fr394_out.wav\n",
            "4pxZWwuoATI_out.wav  eKcbfA-n7q0_out.wav  mcAsO331Z9s_out.wav  uKoP9qz26RU_out.wav\n",
            "4Rke8HMpf_g_out.wav  eKGTLoYbU7U_out.wav  McgfmsC8tIE_out.wav  UkqayNnk00w_out.wav\n",
            "4S0_gCV4Nn4_out.wav  eKLuFjHhbGE_out.wav  MCNQI8ORBu4_out.wav  u_KvEmvnBgc_out.wav\n",
            "4T2KBwRxi_g_out.wav  Ekoh6TJpA88_out.wav  mcQppzCub6Q_out.wav  uLETIQnJM44_out.wav\n",
            "4T4av1I5CNE_out.wav  eKQLEUPywM8_out.wav  MCXt6bfg5-o_out.wav  ULW0iSZ7kpc_out.wav\n",
            "4tH9knHaTd0_out.wav  elenxCpnd3M_out.wav  mdF8mqA6864_out.wav  Um91Y1Vy5AU_out.wav\n",
            "4Ua6i_VDYU4_out.wav  eLHj2Tr3ww8_out.wav  MDkMHEuUpaM_out.wav  UmEPR7gTIb0_out.wav\n",
            "4uv9ZR06R4Y_out.wav  eLujcqHJGJ8_out.wav  Me0_2hkl2ZU_out.wav  uMEQQr11FVc_out.wav\n",
            "4v6MAnRy0w4_out.wav  ElXm1O5xroY_out.wav  mEHNGl0WQU8_out.wav  UmminfCXhNw_out.wav\n",
            "_4VCZp20FfM_out.wav  Em4jQX5TleU_out.wav  MEMJSf7DLaA_out.wav  uM_PGZCccPk_out.wav\n",
            "4VTUA9liVYg_out.wav  eMgbS-rbhko_out.wav  MEVVVTPiN5E_out.wav  un7rlxyDgyU_out.wav\n",
            "4VZhkebrteQ_out.wav  eN32Y6ynqa4_out.wav  MEZmzYW-f8M_out.wav  UND4T1H27cg_out.wav\n",
            "4WewDN9AtlA_out.wav  eN47CUYGgiM_out.wav  Mfs1A6swNzg_out.wav  uNfvtOokcLM_out.wav\n",
            "4X9z5B7nZxU_out.wav  En529NXRoEs_out.wav  MgdYDs97bLk_out.wav  un-OXLWhvDc_out.wav\n",
            "4Xi6F2jAlAE_out.wav  eNpFQ50WwQU_out.wav  mgnurQzxmbg_out.wav  UnZ6ZqpNRts_out.wav\n",
            "-4xJv59_zcA_out.wav  EoPvaYQ-h0w_out.wav  MGvjQbBNEE0_out.wav  uO2ZDzmQPoY_out.wav\n",
            "4xXt0UbCoQA_out.wav  epdCSgTDXdw_out.wav  MHgPpImV7b4_out.wav  Uo-Okq1D8Xo_out.wav\n",
            "4YuziyVEwPs_out.wav  EPjfqS5NvCY_out.wav  mHPeZzWcOeQ_out.wav  uoZ9Rs4E-6Y_out.wav\n",
            "4ZiThDAClro_out.wav  EPMRINfhU8g_out.wav  mhru3GXbkHY_out.wav  uPa7hIIX3uA_out.wav\n",
            "4ztYgv_AzmY_out.wav  EPvITrab4fU_out.wav  MiaERolVcCM_out.wav  UPCGOHjBuNU_out.wav\n",
            "50ceesIcjwE_out.wav  eQKF13LMaIQ_out.wav  _miAGxDX5FM_out.wav  UPDrFoShuxY_out.wav\n",
            "50sztCkIuKU_out.wav  eRale39Z2Wg_out.wav  MInuYEFVsvU_out.wav  Uq370TY_RkM_out.wav\n",
            "51d04WvPScg_out.wav  eRiGPyewJpI_out.wav  MiR63kVN0xU_out.wav  uq9kej0JLb4_out.wav\n",
            "54nXES308NM_out.wav  erJ_Dnt-Waw_out.wav  MIu_bM9fdrM_out.wav  Uqj2GGPVo2E_out.wav\n",
            "55ZDN8PgkHA_out.wav  erM-xCseE3Q_out.wav  MiWskwqOMrg_out.wav  _uQJBxWQTDg_out.wav\n",
            "577NM64YL18_out.wav  erqUSZDo0Pk_out.wav  miwuZGdJKtI_out.wav  UrABzfKma3I_out.wav\n",
            "588osm3C4bw_out.wav  err_odHDEGY_out.wav  _MJNjRAkRfE_out.wav  UrEXSRyBCzk_out.wav\n",
            "58h2NdNd4KM_out.wav  ErZ6S54lpqI_out.wav  MjPIdaG5mKQ_out.wav  Urz8VYMIoA4_out.wav\n",
            "59u7UwUkEWU_out.wav  EsG-jdDMp8o_out.wav  mjYpSGVocWM_out.wav  usczdCr8U80_out.wav\n",
            "5AAYAhVcZNM_out.wav  eSIxvnEQ6R0_out.wav  MKM3Rs5Kg8c_out.wav  USfSQDfMj6w_out.wav\n",
            "5aHvoCScO0g_out.wav  esJEp1WGFl4_out.wav  MlnK2sa7mm4_out.wav  usH4nVyy9A4_out.wav\n",
            "5AjGNbvvf6E_out.wav  Et1NTdKxOm4_out.wav  mlrarQ5nVlU_out.wav  USHLC03XQIw_out.wav\n",
            "5AppPHhDkgE_out.wav  ETdUUUwwhFw_out.wav  Mlyyxl0bXro_out.wav  uSItpibTSVk_out.wav\n",
            "5B7j5DIqBJA_out.wav  eTsWDWDBpI8_out.wav  MMGAKKhqxKg_out.wav  UsZxMrRz_Qg_out.wav\n",
            "5BfPG5qzEpA_out.wav  eU3QGIjugKM_out.wav  mMJPbv1LijI_out.wav  UTHOXn8KPgw_out.wav\n",
            "5bKeBLyRTz0_out.wav  e-UlsyN0gIk_out.wav  Mmk9fMWGqJ8_out.wav  UTJZzX8tOy4_out.wav\n",
            "5bqpcIX2VDQ_out.wav  EvDGBUbCBRs_out.wav  mmz6uoEWxuE_out.wav  UtLhLL6w_SI_out.wav\n",
            "5C0QPgoalxQ_out.wav  eVHnX7MrWNQ_out.wav  mnh9RHyGB9A_out.wav  uttDa-4b5zo_out.wav\n",
            "5ciRkY7tF6s_out.wav  EWiUOmNW3SM_out.wav  mNVGTRu7120_out.wav  uV1r9wUy6_M_out.wav\n",
            "5EjaApKE6eU_out.wav  eWNERam16Hg_out.wav  mOnPgI8vfiQ_out.wav  U-W0wDi1eGk_out.wav\n",
            "5eSLfgR2vZg_out.wav  eXFug5WggE4_out.wav  MPxwPOOIskc_out.wav  -uWB_lkFDhg_out.wav\n",
            "5F7MMaPJqMc_out.wav  eXiOnYckqMU_out.wav  mQ1E8rx2dnI_out.wav  Ux4emeodeM8_out.wav\n",
            "5F8zpfwFKl0_out.wav  ExndFnmXo0g_out.wav  MqDA0h-8IvE_out.wav  UxB8jlO9dRw_out.wav\n",
            "5fFguglZ_8o_out.wav  eYSt2gEcnp8_out.wav  Mqgce-JP-aI_out.wav  uXn1up-9D78_out.wav\n",
            "5fraQQFOyWQ_out.wav  ey_wXCMrS28_out.wav  MQiwhHKpnRQ_out.wav  Uy9EgFy6NBg_out.wav\n",
            "5gB0wpfKeOk_out.wav  eZC1AP_JjXM_out.wav  MQMDMEtAvkg_out.wav  UzFavAgWbBw_out.wav\n",
            "5gh5H0QqJl0_out.wav  eZQsVitDCDs_out.wav  MQpIn5ARX_E_out.wav  uZHE9b1WDuM_out.wav\n",
            "-5GhUbDLYkQ_out.wav  _ezunRBSAQA_out.wav  mqutrIKQ0wM_out.wav  uzuycUGYxGc_out.wav\n",
            "5GQW_-DdCUg_out.wav  eZvYi9PsAm8_out.wav  MrMXYO2fzJ4_out.wav  uZZWqwLKJsQ_out.wav\n",
            "5H-0cRPMOTE_out.wav  F0iagDD7iQI_out.wav  mRSAoBtjLjI_out.wav  V1W4k3ZMR-M_out.wav\n",
            "5HYe8BFKQr4_out.wav  f0-p4aQwUWY_out.wav  -mRz2kEp0ho_out.wav  v26yz-OX_zM_out.wav\n",
            "5hZDNqoi15I_out.wav  f2c3zsrRs1Y_out.wav  MSJG8sRhaK0_out.wav  V2lnBxdPtBo_out.wav\n",
            "5JC5x_qt7FM_out.wav  F2ekiX14ID4_out.wav  msnm_tYXcYw_out.wav  v2NUhsYMq5o_out.wav\n",
            "5JdBAY05ft8_out.wav  F2GFhw3kh4U_out.wav  msZvt9_kbuU_out.wav  v4sANJkuwP4_out.wav\n",
            "-5Jlimvsuwo_out.wav  f2IBQ8MBwjo_out.wav  MTB-P5Bt3_Q_out.wav  v50eBkgYW-I_out.wav\n",
            "_5jnoa5nk-s_out.wav  F3BR3XDyhXc_out.wav  MtyO_Dh8S1o_out.wav  v5SsASLy2c8_out.wav\n",
            "5LK5QxIu8xw_out.wav  F5VpAUMZf0E_out.wav  mTzn4_0qVwc_out.wav  V64SCgmcKNE_out.wav\n",
            "5lMT6xiNFdA_out.wav  f6cIHA7b_mc_out.wav  muTEkKFEoGY_out.wav  V65IPXejqj4_out.wav\n",
            "5lNDlR80tsY_out.wav  f-6QHVgMeC8_out.wav  MuvuZhHeM3s_out.wav  V7JfdI4EX7w_out.wav\n",
            "5ltzekqKM7k_out.wav  f7jtLE3Q8EE_out.wav  mVamaP3xUw0_out.wav  Va-eLd-6ReQ_out.wav\n",
            "5nJr7iar6ZM_out.wav  F7r5A8N66hA_out.wav  MviNb4jpRCU_out.wav  vByuZEzCZJg_out.wav\n",
            "5nyaSMbAx3I_out.wav  f9k_lFZCzVk_out.wav  mwafAXvcoso_out.wav  VC5StDzBqgs_out.wav\n",
            "5oIP4I0Wkas_out.wav  fA-CkaYF2Uc_out.wav  MWfLjmzWQIA_out.wav  VCOQOjLdIj0_out.wav\n",
            "5olLmBlOlag_out.wav  fbWj1v3-Hus_out.wav  M-WK2k7m0zE_out.wav  VcQsSCgypQU_out.wav\n",
            "5qi5sjbJM08_out.wav  FbXjCKCuWDg_out.wav  MXdVnDVjSL8_out.wav  Vd8bmZtWPkQ_out.wav\n",
            "5qr5gCk68wg_out.wav  fbyB2Yac-l0_out.wav  MXffROjfCTs_out.wav  vDLapSS4HRk_out.wav\n",
            "5qT5hnHjy2g_out.wav  FC8gpdOevrg_out.wav  mYsjO2kEXRA_out.wav  VD-zm-oDCTs_out.wav\n",
            "5REg4leddqM_out.wav  fcpVyvn5vKk_out.wav  MYSoj-wXlsE_out.wav  vePFYaAifYU_out.wav\n",
            "5RmL4RxyOXk_out.wav  FCvs17jk10A_out.wav  mZkuT_G8z5M_out.wav  VFDeywIJxdE_out.wav\n",
            "5rXI0sVTKlc_out.wav  FczDkI6JZAU_out.wav  n00NFbjv3WU_out.wav  vfKsIb7xYSA_out.wav\n",
            "5S-RAgudnww_out.wav  fd5JUOIhMxQ_out.wav  n0fEWekE2P0_out.wav  vfMEPOl1Wqw_out.wav\n",
            "5tRNPTLRZqI_out.wav  fDBzeSQoTu8_out.wav  n0Jc1i6Ns4g_out.wav  vG0QJ3bjfqk_out.wav\n",
            "5uKdt5yzBMA_out.wav  fDMbNCdGXBc_out.wav  N-26aD8z19c_out.wav  Vge67eYk6Ew_out.wav\n",
            "5_vuxyPOuiY_out.wav  FdZQAkC-tjQ_out.wav  N2b86QnEA7k_out.wav  VgRYFya6bu0_out.wav\n",
            "5wGUyhy4Tco_out.wav  FeaKHpQ4UhE_out.wav  N3I0bQOafN8_out.wav  Vhb3ymD6Uwo_out.wav\n",
            "5xBfKiQcMZQ_out.wav  fEbFORMtEPc_out.wav  N51oJbWVWR0_out.wav  vHGamawvufY_out.wav\n",
            "5XfYXPPlF9k_out.wav  FEGhRQ1KAE4_out.wav  N6QXxr4QapY_out.wav  VhMPUIDL2mk_out.wav\n",
            "5Y3_rIfOOf0_out.wav  FEVRv0JwVF0_out.wav  N7C_mLbSaaY_out.wav  VhN5wPBAImc_out.wav\n",
            "5Y9HtEEOBBU_out.wav  FFQVVwFjy7s_out.wav  n8_v_iLmrcE_out.wav  VHxCzlTUM6I_out.wav\n",
            "606_Owd6dHs_out.wav  ffWfKwi1P4E_out.wav  NAldsczqsy0_out.wav  VI18_KfuTD0_out.wav\n",
            "60dw27YRolU_out.wav  fGFK3Z5Cks4_out.wav  Nb8Myd9Y4AA_out.wav  ViBUUQTLzcs_out.wav\n",
            "60kn1weBK8M_out.wav  fGPfAwuoYf8_out.wav  nbB8C-lGSKQ_out.wav  VImYbitqzU0_out.wav\n",
            "619xf0ifoSQ_out.wav  FHU4R4mbyEE_out.wav  N_BCONjmbXg_out.wav  Vj5RxoMbM10_out.wav\n",
            "62L5kn1qFeY_out.wav  fiAcNMpd2vM_out.wav  NC5tIv4-8fg_out.wav  VjzkQgfqCGQ_out.wav\n",
            "65KYS3lIRII_out.wav  fIcCtvB-f3s_out.wav  nck7Z9MtNIU_out.wav  VKbCgW9sR3g_out.wav\n",
            "66B46E_hrrk_out.wav  fioc7suNO3s_out.wav  Ndc4lN9GoGk_out.wav  vK-sPA_Q9P4_out.wav\n",
            "66IWgU9AAis_out.wav  fiZpOV40_Rg_out.wav  NdqFBMCtvwo_out.wav  vkuvXhauqsc_out.wav\n",
            "676jJ4ro9J8_out.wav  fJ8re5kbJxQ_out.wav  nE77lQzPBpA_out.wav  VL78F_5ZER0_out.wav\n",
            "67S7s_jFXhc_out.wav  fjJSS9MVBQM_out.wav  NErZMRKGdqY_out.wav  _VLmOn4qST8_out.wav\n",
            "68qvHxql5OY_out.wav  FKBryvLMTY4_out.wav  NF7QlFS6RVs_out.wav  VM253XTE7L4_out.wav\n",
            "69tcopJWwrY_out.wav  FKtVNnZ8nhE_out.wav  nfGDe975SrY_out.wav  vm9mPLYEv7c_out.wav\n",
            "6AyumUbU3VM_out.wav  F_Ll1ilNtiA_out.wav  NfTpkyjMGSQ_out.wav  VmegSpCcMXM_out.wav\n",
            "6b6KOxd2jck_out.wav  fLnF-QnR1Zw_out.wav  nG5_2IMbBo0_out.wav  VMQyl-E61uk_out.wav\n",
            "6DTuDIXEJx0_out.wav  fLrWoS0JXGs_out.wav  nGmhfmCVnnc_out.wav  vmVOWilkmOA_out.wav\n",
            "6e0F1Y6aMZk_out.wav  fM0rQLtccSA_out.wav  ngqJmUB1vsc_out.wav  VMx7JHnUU2Y_out.wav\n",
            "6FcV7mnutxc_out.wav  FMDuxUkmGig_out.wav  Ngr1yR8S-rY_out.wav  vNMdRjAdXPU_out.wav\n",
            "6gp2JgYGCKM_out.wav  FMGKa7fz398_out.wav  nguwFJDsq4M_out.wav  vNPL092rPgQ_out.wav\n",
            "6gTrMRQPZMU_out.wav  fmHbWq-7-iQ_out.wav  nHGis4rLffU_out.wav  VnpYwbDR110_out.wav\n",
            "6H_nZPUGf8o_out.wav  FMjUGdTn7lU_out.wav  nhoLUwa7wZY_out.wav  Vo6eT8eMMfQ_out.wav\n",
            "6i8NJqD6sos_out.wav  FmK_QqkLhiE_out.wav  nhoXQ5DDcbA_out.wav  VP1cB_AVu6c_out.wav\n",
            "6ipDwi_KdlE_out.wav  FMuojRqMdJ4_out.wav  NiIUWwEvLqY_out.wav  vpcEBryyej4_out.wav\n",
            "6iyinlZEgS4_out.wav  fndoOosNlgA_out.wav  nJ3tuDmcdTs_out.wav  V-PLEhiOeVA_out.wav\n",
            "6jYXc4YYsTY_out.wav  fNp3_11a_WM_out.wav  nJ5VaxlKdQE_out.wav  VPXU21fNEMM_out.wav\n",
            "6KbBcOZL7FM_out.wav  FNs30aB3rq4_out.wav  nJKkJuff4cc_out.wav  vQ3jXFJMVrc_out.wav\n",
            "6KbzHKXLEmE_out.wav  fObjRnKHrXU_out.wav  Njo2AtZc86M_out.wav  vrNQbCbBlLY_out.wav\n",
            "6KXd7l5pThg_out.wav  FoINA-FzVy0_out.wav  njTjykvEXzk_out.wav  vRTWnl68ceE_out.wav\n",
            "6L8bljNWiwU_out.wav  FOLW9KLNL78_out.wav  NK92DUyyngc_out.wav  VruWVPsPYNQ_out.wav\n",
            "6lgH1cWR4Wo_out.wav  FPFTZGMcyck_out.wav  NkJCk0lvNkU_out.wav  vS8PEM-ookc_out.wav\n",
            "6OcoDIrbMtY_out.wav  fppKGJD3Y6c_out.wav  Nlg8AbWRV_c_out.wav  vsDriIwNAmU_out.wav\n",
            "6OHetw29o_A_out.wav  FPRRNfbcULA_out.wav  NlUf1ppoSG4_out.wav  vtBA9zkp264_out.wav\n",
            "6oqbYipROOs_out.wav  frpOUQKpF1U_out.wav  nM2ZcgMqhQc_out.wav  vTn6Vc_KRaY_out.wav\n",
            "6OVb3rjcB3Q_out.wav  fRX9NT1KNAc_out.wav  NmbiUTUSZig_out.wav  VtQNXbqo0GY_out.wav\n",
            "6PWiDlWmPs0_out.wav  FSMA2s4yYRA_out.wav  NMGDC9hN5qc_out.wav  vTXb8P7sAFY_out.wav\n",
            "6QcAmUpe8FQ_out.wav  fsO810ujIJI_out.wav  _nnBLMdwbQQ_out.wav  VtXwUAXZ0H4_out.wav\n",
            "6quVNuz_sIs_out.wav  Fsv_syCvzsc_out.wav  nnc6m1pBJ4c_out.wav  VwAjYjLFwbE_out.wav\n",
            "6qY1ojVpxB4_out.wav  FTdcanPJw6E_out.wav  n-ndePnWdjg_out.wav  VWlY1s_2-K4_out.wav\n",
            "6R7__52vkro_out.wav  fTFKAh6stpI_out.wav  nNSPgjtWi60_out.wav  vwqISkG7o50_out.wav\n",
            "6R7-SJPID_I_out.wav  ftfyCGbJJ6k_out.wav  NoB_4XaZYVs_out.wav  vwU8JObQMXc_out.wav\n",
            "6rJrrfRO3cA_out.wav  Fu8Ze7MgXb4_out.wav  NOhxxfWz-VU_out.wav  VwvikYBN28E_out.wav\n",
            "-6RN8skIHU4_out.wav  fU9woCZqemw_out.wav  nONXdP6T3pc_out.wav  vX_dxW43ZXo_out.wav\n",
            "6s-smRjmHYM_out.wav  fuo-4PeDEo0_out.wav  noYeBRk2XE8_out.wav  VXFyLX6z0V8_out.wav\n",
            "6THFGWLEn7w_out.wav  FvdUm5j_oA0_out.wav  nR6vw_k44lg_out.wav  vxrM-HU9ITQ_out.wav\n",
            "6uIOGE36tWo_out.wav  fvSnFEsn_NI_out.wav  nr9oLIsbDyQ_out.wav  vXUW_go3sV4_out.wav\n",
            "_6uP5AkskmE_out.wav  FVwfDaHqIps_out.wav  nrSXm2jPiAg_out.wav  vZ12o1InSw0_out.wav\n",
            "6vDMRkvF4f4_out.wav  fw7Y8n_0sYg_out.wav  _ns2Zm-zOdQ_out.wav  VzEmLYAcX_4_out.wav\n",
            "6VOGlqLeOzI_out.wav  fw_cFbj9eHQ_out.wav  nSJk6rLC_T4_out.wav  vzhVYQlgfx8_out.wav\n",
            "6WxotC_jtqY_out.wav  -fwDsIyHHb8_out.wav  NsR60ehkHGA_out.wav  vZnyVRkAphs_out.wav\n",
            "-6x2PtSRfJU_out.wav  fWOdqEDLbEQ_out.wav  ntpg9NxWUmQ_out.wav  w0A-4EbkVz8_out.wav\n",
            "6XHdybfV5Cw_out.wav  fWTrDugFpko_out.wav  nu_Bl8Pz6PE_out.wav  W0sDbGpUvgE_out.wav\n",
            "6XN9trtsQGo_out.wav  fwVL1NnQ3Ng_out.wav  NvRB6Kwi2-c_out.wav  w0yHqPxybQE_out.wav\n",
            "6YicR55sWNA_out.wav  FWXSWoVX_U8_out.wav  NvT6ypvmQQk_out.wav  W2wh7xz-3FM_out.wav\n",
            "712QrVEkaAo_out.wav  fx3-JxVOwog_out.wav  Nv_xncrZfCg_out.wav  W3DwueAy65k_out.wav\n",
            "74zhNxgFkTQ_out.wav  FxEwKuTPw20_out.wav  nW6Naj6eeI4_out.wav  w3z2TceWhzE_out.wav\n",
            "74ZtTQKeQoU_out.wav  fXfNfvnDyQI_out.wav  NWxMLHYEJN0_out.wav  W4qY8rqeTTA_out.wav\n",
            "-75IwDlkzDQ_out.wav  FY8bZRm_QiE_out.wav  nX7VVVNcGac_out.wav  w5uEe5HvMQY_out.wav\n",
            "75UH33tO0Bo_out.wav  fyqqAru0PHw_out.wav  NxABghkgXHA_out.wav  W7feeDJ8iNk_out.wav\n",
            "76pFWYirLCw_out.wav  -FYyJ2sAWk4_out.wav  Nxtqm2s8sLU_out.wav  w82xpBR_Z4A_out.wav\n",
            "777vfvZlUWc_out.wav  fZD_P27ebrg_out.wav  nXTTbjx_X-8_out.wav  W8IOz3qRU_0_out.wav\n",
            "796kHVa2UVw_out.wav  fZEUTBsfeOM_out.wav  NzUqkTyU9n8_out.wav  W8WFs-QDZnc_out.wav\n",
            "7B1OAtD_VIA_out.wav  fziBVTPIiao_out.wav  NZYDLDIyZr8_out.wav  W8Xv3Q2kGRA_out.wav\n",
            "7CF182nt-bE_out.wav  FzKFPOAUEow_out.wav  o0-zzs1GDc4_out.wav  W9yEHmRcmos_out.wav\n",
            "7enfWOAynno_out.wav  FzT-vZ7e94Q_out.wav  O25IKwo2HkE_out.wav  WAaz2BM4sbI_out.wav\n",
            "7eZTmLV9gcY_out.wav  G0uFERXjyWg_out.wav  o274yH7D0Og_out.wav  Waljosxqz0Y_out.wav\n",
            "7FI6nCbX89k_out.wav  G13CgKfhE2s_out.wav  o2bqT0ZTz7E_out.wav  wBQgLx7hLS0_out.wav\n",
            "7g2YcKAGiMM_out.wav  g16vHZQtFAw_out.wav  O2VHKmZi79Q_out.wav  wC0mY7NzihY_out.wav\n",
            "7Gw9kJz3k54_out.wav  G18Nt0ZeEJQ_out.wav  o3DFjne7mNA_out.wav  WCl93HBuj60_out.wav\n",
            "7I6fpFH5mes_out.wav  g1u8Oxia1oI_out.wav  O44KCiT8shM_out.wav  WCo_yjQMttg_out.wav\n",
            "7i9sTFnZ0p0_out.wav  g2M7Frp85Ck_out.wav  o4DCUrhSr9U_out.wav  Wd4T3iTsgrI_out.wav\n",
            "7IllUjk5fk0_out.wav  g3y4ZkRoKx4_out.wav  O6xMQnKJROc_out.wav  WdTzXm3ntZY_out.wav\n",
            "7iyRkyHjsTE_out.wav  G6G1Amupivo_out.wav  o7jBSQRJzuQ_out.wav  _wDUaoaGnA0_out.wav\n",
            "7J6U-HE3Lko_out.wav  g6hEiX4XTcw_out.wav  -O842QWtymw_out.wav  We3IVaAjo2w_out.wav\n",
            "7JE2eBK1f9M_out.wav  G6HlAEZUKRg_out.wav  o8Q0i9VzQZA_out.wav  We75Jb96g_s_out.wav\n",
            "7k3M0pQvzhY_out.wav  g7Ie365gjIU_out.wav  O9SxKNENNIQ_out.wav  WEGeGwGX820_out.wav\n",
            "7K4kLUy6Kqo_out.wav  G7pD1K3jYg4_out.wav  OA63sRxGk6o_out.wav  wesIxYixl4o_out.wav\n",
            "7KhBpsbkmuE_out.wav  g8XTU3OalGs_out.wav  Oag42LhgMoE_out.wav  wFnnq-DO5mw_out.wav\n",
            "7KRP20nB_CQ_out.wav  G9gsCU85c8k_out.wav  oANVd7GWDbA_out.wav  wFQVeROWsWo_out.wav\n",
            "7Mfy9hLqaiM_out.wav  g_9mA0RQp7U_out.wav  Obc79LFQ05Q_out.wav  -WFsDr9xBVo_out.wav\n",
            "7NVPQMMdadM_out.wav  g9NduchHNsk_out.wav  oBwt8T8P8Zs_out.wav  wgF9Z-Ui6x8_out.wav\n",
            "7oK4d4SdSa8_out.wav  GA2FSGE7lEg_out.wav  od5i0WACtIM_out.wav  Whw1v0fFkoI_out.wav\n",
            "7rk62G1WyG8_out.wav  Ga3wIYssNC8_out.wav  Od85JwO7ChQ_out.wav  WH_wR-8OVds_out.wav\n",
            "7RtQpW2dSU4_out.wav  gAQiARaliPA_out.wav  ODndrvRhbYQ_out.wav  WiAFUo2nxIk_out.wav\n",
            "7S9a9DsTBsI_out.wav  gb6znNVrhJ0_out.wav  OE_05sAxvJ8_out.wav  WIC9ZtEWc6g_out.wav\n",
            "7sLdN_5g_nk_out.wav  Gb9DUjw8b74_out.wav  OfB-IotfiTI_out.wav  WiVLgHykmFc_out.wav\n",
            "7SR-lnHmDi8_out.wav  GbYZAhiGzQg_out.wav  Ofry7lyQZDA_out.wav  Wk9rfiU9wvg_out.wav\n",
            "7SRwq1t81Fk_out.wav  GcdzBmlxyN0_out.wav  oGtgsC4-1qo_out.wav  WKL40jfQD3g_out.wav\n",
            "7U3Uwu42nwk_out.wav  gCK8evDrnTo_out.wav  oh0EWEvJI90_out.wav  Wl5Ch9EV0bc_out.wav\n",
            "7Ufea5nkc-M_out.wav  gCSShNsw-_A_out.wav  oHLeUJeDL1A_out.wav  wLjOnXgZny0_out.wav\n",
            "7Vb7IKhVKu4_out.wav  GcuzzHAoxB4_out.wav  ohMaT4TqX7c_out.wav  WmGhWK2jeGY_out.wav\n",
            "-7wUQP6G5EQ_out.wav  g-D_5exPsI0_out.wav  ohpWTvrGycU_out.wav  wMsb7moPV2M_out.wav\n",
            "7wXfKPtFNpE_out.wav  GD5hb0f8-3I_out.wav  oI00pniRwgk_out.wav  wmXnAsZ3S5o_out.wav\n",
            "7xD_Ib3VS_w_out.wav  Gd8v14IzF7E_out.wav  OiBoeXI-R9k_out.wav  WmyhSRhWh3k_out.wav\n",
            "7XMDKZQ0GKw_out.wav  GF73K0K4LGk_out.wav  OiC0fD1n3Bk_out.wav  wNklwnZkt_0_out.wav\n",
            "7yp-lTkiEsw_out.wav  Gf8F2tBCaPk_out.wav  Oi_hejNwPxI_out.wav  WNx9AzSOTPk_out.wav\n",
            "7YtKrL6ScXA_out.wav  GGHWferVvnA_out.wav  oiHh2-6jmnU_out.wav  wobbgza7cTs_out.wav\n",
            "7zwLdPRDU94_out.wav  gh8fUXjRoTc_out.wav  OIk5Gi4w9uE_out.wav  Wp7JyzM7HVw_out.wav\n",
            "8018a8EPQ3s_out.wav  Gh8pcu-QU78_out.wav  oIQqhb6BmMo_out.wav  WQNJDWRsG3s_out.wav\n",
            "807jCaxmAOI_out.wav  GHgkNOfGLDA_out.wav  OItUhSp_S1k_out.wav  WQvdabO-0yw_out.wav\n",
            "80C4GZenjZY_out.wav  GH-HD9DrxHo_out.wav  OJ4hYN9OVuY_out.wav  wrLjzQCzo7E_out.wav\n",
            "81QPmuAh1K8_out.wav  GhNaovl8MeM_out.wav  Oj9nNSem1-A_out.wav  wRVZAD1pfeo_out.wav\n",
            "81Vzxng5iNA_out.wav  -G_hnfp4a0M_out.wav  ojDjuCqBzUQ_out.wav  WSMdqFEjGXE_out.wav\n",
            "82EHZ4_pTps_out.wav  GHyUAl9Yaos_out.wav  ojdqgnmcgYM_out.wav  -Wu-WkTumEM_out.wav\n",
            "845X9JEGzsU_out.wav  GI7SIuqRPhE_out.wav  Ojp9Qv0gDsA_out.wav  Wvg5rlMbjJc_out.wav\n",
            "84tuGBEaAWk_out.wav  -gie2dhqP2c_out.wav  OJpQgSZ49tk_out.wav  WvL9Xhv8x1M_out.wav\n",
            "87IhSY4r2DY_out.wav  G_iJif-fC6E_out.wav  oJSaOFfZ7ow_out.wav  WvuJuEM7JJs_out.wav\n",
            "88GlJOx-Lns_out.wav  GjE_iD2BbFg_out.wav  oJSnwGKzxbE_out.wav  WVVSwGwNAyo_out.wav\n",
            "8AKl3rK3GKg_out.wav  gJfYTBeXHxs_out.wav  _OJvh8eZCIk_out.wav  wWQFh_PvGps_out.wav\n",
            "8C2Vd4RPLDo_out.wav  _GjHL0FkYoY_out.wav  oJVrr2N0EHI_out.wav  Wxa36SSZx8o_out.wav\n",
            "8CCSPJ2PMuE_out.wav  GjINSDvWHW4_out.wav  Ojz0ypDbruI_out.wav  wxKtBDKasgM_out.wav\n",
            "8_dg_Npjkp8_out.wav  gJMdzWZ088I_out.wav  oKNKH_95QaE_out.wav  W-Xr-MVNST8_out.wav\n",
            "8Es9SUECPlc_out.wav  Gjo83FC5sh0_out.wav  okpTQM-Ft7A_out.wav  wXxo_Q6e_xA_out.wav\n",
            "-8Ezw9946g8_out.wav  gjujPd1lP8E_out.wav  OKRsL5jVyfc_out.wav  WYbD9YUrf_4_out.wav\n",
            "8f3TpJL3XKE_out.wav  GJvWWCx2UuU_out.wav  ok-xBfOhmrk_out.wav  Wy-PhjWxheo_out.wav\n",
            "8G7yuKhkELs_out.wav  Gk3offLZxus_out.wav  OL6-jYPRUQE_out.wav  WYupmAD1RP8_out.wav\n",
            "8HdKHSXAFYQ_out.wav  GKEix1KhYl4_out.wav  OlGs6IxcviI_out.wav  _WYwB1qRgLM_out.wav\n",
            "8hE_fU9F8-s_out.wav  gKjKFZ30684_out.wav  OLpQaYAPRK0_out.wav  WyWE44m1TtA_out.wav\n",
            "8itgAad5TdE_out.wav  GKkuLSTnRng_out.wav  OLsy4ISTNmY_out.wav  wZcNfq_Vdnk_out.wav\n",
            "8jt-1-EgB6Q_out.wav  Gksy214mQWg_out.wav  oLtk5XuasN8_out.wav  WZK-WlnU_k4_out.wav\n",
            "8JZBSKvsG1U_out.wav  GKuVzN1VrfM_out.wav  omAz2-Yg5eI_out.wav  X0C6SygZ0fU_out.wav\n",
            "8L32jH61YPU_out.wav  GkxCa1dQJlA_out.wav  OMjLpPxbKN4_out.wav  x14jW4c8YnQ_out.wav\n",
            "8LP_wbFLaJE_out.wav  gkZv2QS6c70_out.wav  OMMQqkwvNx8_out.wav  -X14yAhC-SE_out.wav\n",
            "8mNRc0NGZzc_out.wav  GLb9zvhNSXE_out.wav  ONfiIgB_W_o_out.wav  x22NHqwKSNE_out.wav\n",
            "8nC5PrbKbfk_out.wav  GLCteJgI1cw_out.wav  ONlYMaqm9lo_out.wav  X2wvjff15Ro_out.wav\n",
            "8N-jlM8tYj8_out.wav  glfVYd7wA9w_out.wav  onRvtbNSv90_out.wav  X5s1jA9YJlo_out.wav\n",
            "8nUPwvuTkEc_out.wav  GLhehKexwd8_out.wav  ONvkpC2khGY_out.wav  X_6bDtRhpog_out.wav\n",
            "8__OAtLb8wo_out.wav  gmIkYb8Wqgk_out.wav  OO4LUcMV25E_out.wav  x8eqSQNAyro_out.wav\n",
            "8OsmFmhNjoA_out.wav  go-cSk9a1EY_out.wav  OodpS6bvTgg_out.wav  x8ILdNDrXrc_out.wav\n",
            "8oUI02eK3SM_out.wav  goxYCJoMoFk_out.wav  OpaYJtitPVE_out.wav  X9dcrqoyMkQ_out.wav\n",
            "8pHUBnRV8qc_out.wav  Gp09APbl7so_out.wav  OpciAGJrS7g_out.wav  XalMIYYgHt0_out.wav\n",
            "8pSWaTLZI_Y_out.wav  gp1DYuoQH08_out.wav  -oP-XX28B0s_out.wav  Xazsdjxx8lM_out.wav\n",
            "8Q4BOBvz4hI_out.wav  gqkqzqCHM3A_out.wav  OqXsRZMZQDY_out.wav  xB0rJTWaac8_out.wav\n",
            "8qeTEfOqB0A_out.wav  _gr5-gZN29E_out.wav  ORU6Ykr0mKM_out.wav  xbm0x3PL0rc_out.wav\n",
            "8ryZVuSlM_Q_out.wav  GRdzFvQezUE_out.wav  OrwximvUjTU_out.wav  _XBqA_26vus_out.wav\n",
            "8T-ElyQVDAI_out.wav  GRfMi0usR5c_out.wav  oS8kziiAWTk_out.wav  xd7PKTjn9XI_out.wav\n",
            "8Tgad6VT_x8_out.wav  gRT-1VDZ2cw_out.wav  osalG80fhbg_out.wav  Xe59DpKa-O4_out.wav\n",
            "8vF49L0IiS8_out.wav  Gt2_Uluenic_out.wav  OSlotCnSFow_out.wav  xEBo-1ICleA_out.wav\n",
            "8vOBijliMRc_out.wav  GTA-VQK-54w_out.wav  oT3cQK8ySyM_out.wav  XfUzFy5rCKY_out.wav\n",
            "8wzXl3ssAaU_out.wav  GtWO1XQIjnE_out.wav  oTzTZqDOIt0_out.wav  xgImz4jqdZk_out.wav\n",
            "8xlfb4H0iww_out.wav  guCmzavTQDA_out.wav  ou3LJpAM4mk_out.wav  XgM9ihFTlqM_out.wav\n",
            "8Y0FRjkX9xI_out.wav  guDYTNxzd8k_out.wav  oUk-fAw3c5M_out.wav  XhAANob18_8_out.wav\n",
            "8YoDTfC4oqw_out.wav  guvwGAj_xO4_out.wav  OUrEoopWODY_out.wav  xHvPtgkxUPk_out.wav\n",
            "90rgiP6MPM8_out.wav  GwjfdroSAIw_out.wav  OvjmfGU4y_M_out.wav  XI2c9yptr4U_out.wav\n",
            "91FtvAfmI6s_out.wav  gWMrFrICmNw_out.wav  Ovk5EfFj7Ws_out.wav  XiGv27-9itM_out.wav\n",
            "949zqB0GlGE_out.wav  GWTh21DHy6k_out.wav  ovM6O5y2uBo_out.wav  Xi-NFemvoIU_out.wav\n",
            "94yctzPL91s_out.wav  gwZJIHspEdU_out.wav  -oxF9jhY94s_out.wav  xJ63DJzzvnA_out.wav\n",
            "94Y_QnedxB8_out.wav  GX5cHG90ctA_out.wav  oxlcd9jsnLQ_out.wav  XjjxnpDBzBc_out.wav\n",
            "9avOnbp3NA8_out.wav  gXGvMW-GN2Y_out.wav  oY8jMhTw-wU_out.wav  xjqt3sDAGdg_out.wav\n",
            "9Bg7XK1Uoyw_out.wav  GXIHvG5Z3LM_out.wav  OycJOAEHuMM_out.wav  XJXn88r9ys8_out.wav\n",
            "9BHvpWP2V9Y_out.wav  GXoN7GTXhiY_out.wav  OYhViubHkS8_out.wav  xkkbppB8VKI_out.wav\n",
            "9BWFVJvXFMc_out.wav  GXqLMCKTdSg_out.wav  oYk0I5lY9Tg_out.wav  XkmjuGkVPfk_out.wav\n",
            "9CJu43AvIds_out.wav  gYnd_jZGGDk_out.wav  OYKSdlwrnAE_out.wav  xKpMVNQMnkI_out.wav\n",
            "9cOXbQSEQ0M_out.wav  GyzTkeJI5BY_out.wav  oypg41SWGDc_out.wav  xKQbzYEVQyw_out.wav\n",
            "9d5q16pnFZM_out.wav  Gz8RlHf3Czs_out.wav  OyRtTtTSXuM_out.wav  xl1op2Kwj_w_out.wav\n",
            "9dx9IhSqwC4_out.wav  GZafbyzcbc0_out.wav  oyY8u4I6iAU_out.wav  xlE_HYdFR-I_out.wav\n",
            "9EzV2FqY2y8_out.wav  gZqEKl3OnwM_out.wav  oZF73R89bk0_out.wav  xlxxWFENWr8_out.wav\n",
            "9FH7i5Q4rGI_out.wav  GzRvq0gJbj0_out.wav  ozjs2d_xlSI_out.wav  XM4hxyK-Ddo_out.wav\n",
            "9hJigrKndKw_out.wav  H0ckAG9Dvd8_out.wav  p1-07VdP__Q_out.wav  XMBE7ztd480_out.wav\n",
            "9HQNvz4eZPU_out.wav  H0GhpHKOBEw_out.wav  p1CtK4P7B-w_out.wav  xMMxJJtBBpw_out.wav\n",
            "9jDguGDaxm8_out.wav  H0Zaevi3IUw_out.wav  p1PxCuL3KGk_out.wav  xMxt4GMtatk_out.wav\n",
            "9JMbARk-xd0_out.wav  h2CVFmfuMJQ_out.wav  P2xCq4aIum0_out.wav  Xn9o4D_leMU_out.wav\n",
            "9K8EePrEDdo_out.wav  H2D2hVsvQIU_out.wav  p3DLHNuCYhU_out.wav  XnibuIbqrzs_out.wav\n",
            "9KD9_wsWudk_out.wav  h-3DrDQC62k_out.wav  p4M4MV2IT88_out.wav  xNn2UdI-kvA_out.wav\n",
            "9KK6rg03bC8_out.wav  h3DVqb55DRQ_out.wav  p4T1pddBia0_out.wav  xN_XzpVKsJA_out.wav\n",
            "9kt7rsziUVQ_out.wav  h3rwDbCm6cc_out.wav  P5AgEqouchI_out.wav  xohgxk4sG3A_out.wav\n",
            "9L3EMXLufVg_out.wav  _H4iHqtGlAY_out.wav  p8JdHfqN4Sw_out.wav  XOsHEjo-RSg_out.wav\n",
            "9mqA4YdX444_out.wav  h5gtwyez9HY_out.wav  p9nbp0Oo1U0_out.wav  XpKCBBd1QRs_out.wav\n",
            "9ng2jhBIWgk_out.wav  H6NL5yE-f2c_out.wav  paIkNAu-2C8_out.wav  XprqiWeGihg_out.wav\n",
            "9npXuzkn0iE_out.wav  H6Y_7Ax34-g_out.wav  pBbg1Q5AxQM_out.wav  _XqGVyKLb88_out.wav\n",
            "9Nw0H-NeX-4_out.wav  H86WITYzENQ_out.wav  PBMfPDei93s_out.wav  XRHeXdE2VQ4_out.wav\n",
            "9o7PgwVy_h8_out.wav  h8PaNRnPNl4_out.wav  pbWV4YRRo8Q_out.wav  xrkWm1c29ak_out.wav\n",
            "_9RcwKnHbQw_out.wav  H8TZIBcXgZg_out.wav  pc-JUIGSZds_out.wav  XscNEv9tX5U_out.wav\n",
            "9rgB0wKU1-g_out.wav  h9IS3PQ4dmg_out.wav  PcMzz3hn9Oc_out.wav  XSj8rxGME6k_out.wav\n",
            "9Ri_DUptMTo_out.wav  h9tHlkPpEEU_out.wav  pcWg-laPJac_out.wav  xsLrtmIAaxU_out.wav\n",
            "9S0IuxfSmpw_out.wav  HAlGo11Jza8_out.wav  pd1CH9ukqEw_out.wav  XT7wZgs3BnI_out.wav\n",
            "9Tl2l3bsLpE_out.wav  hAvIkW-qOTo_out.wav  Pdd2UAQu28g_out.wav  xtllXrdFAFQ_out.wav\n",
            "9tuMwVh2fhs_out.wav  H_Bcux0FRxM_out.wav  PdgswSjYhMw_out.wav  XtXEMn7Qjds_out.wav\n",
            "9tYJ8G9i5yc_out.wav  Hb_mnZ3aFqk_out.wav  pDvSMCJzG90_out.wav  xUB6GwE-r9c_out.wav\n",
            "9TyJBWp_gUA_out.wav  HCCGZh-TxK0_out.wav  PDyGoeYgRcE_out.wav  XuS3-gORs-o_out.wav\n",
            "9udlcVVxlMY_out.wav  HdGE3gaIf4w_out.wav  Pef10mwHBLw_out.wav  _XusTa2prSw_out.wav\n",
            "9vPg3ePBCPg_out.wav  HdPyCHQVKPc_out.wav  PEjoPo0X7H0_out.wav  XUzaEsoOlWQ_out.wav\n",
            "9xATJGoL-nI_out.wav  hF8WIKLNZSI_out.wav  peLHVzYFh9w_out.wav  xvB-caf_k4U_out.wav\n",
            "9YnYlDFKn-U_out.wav  hFOk0lXphBY_out.wav  pELIBvAnbkY_out.wav  xVi1wNljxjk_out.wav\n",
            "9yY9mjvbHEg_out.wav  hFTcS18hSn0_out.wav  PEQuEDgLuDk_out.wav  xwgQkNs904Q_out.wav\n",
            "9Z6Q0X60rmo_out.wav  hGmzPoruBwU_out.wav  Pf0oQSdL2yU_out.wav  XWj7nP7kfdQ_out.wav\n",
            "a-11dtG7aK4_out.wav  HGPmmlQqknE_out.wav  PF84q5hweIg_out.wav  xWmcax3aX5U_out.wav\n",
            "a2bqZ6PVWM0_out.wav  HHFnMqzW54k_out.wav  PFa1XVCgPgM_out.wav  XwtRtbGRRGs_out.wav\n",
            "a2KbrnPW7aA_out.wav  HhLTkiuXDwQ_out.wav  PFCtfHCJ5Ug_out.wav  XWVGQbfpA0k_out.wav\n",
            "A2pgKzeDRqg_out.wav  HhQTvaZtURY_out.wav  pfPWhjv_Wb0_out.wav  XwvSH85pVXY_out.wav\n",
            "a3QRZd6xIxA_out.wav  HHvYFrEHlmc_out.wav  p-G09RmXPOo_out.wav  xXFyAC2KscM_out.wav\n",
            "A446kjocnCg_out.wav  HHZGjS4g-w4_out.wav  PG1nKnvHjYI_out.wav  XxKlsW4H0qo_out.wav\n",
            "a4L7FzFE1G4_out.wav  HIDXdH6R6T8_out.wav  pHgb_TU8XLg_out.wav  xxNroISqkt4_out.wav\n",
            "a6v9tIEQRXE_out.wav  hIEj8msjg8E_out.wav  PHJnwEWHbdo_out.wav  XY94GCgWMZM_out.wav\n",
            "A8CJ4YSsUgs_out.wav  Hij_QxDkIJI_out.wav  PhUBiNm51gc_out.wav  XYriGukFKcI_out.wav\n",
            "A8hemJIOtdo_out.wav  HJc-cKmD100_out.wav  Phy-_ko0zWU_out.wav  XYStLmRuFEM_out.wav\n",
            "A8P5zzHCjJw_out.wav  HJFlxLJSX8E_out.wav  PIdcZV3BNHU_out.wav  xyWta0Zs3vE_out.wav\n",
            "A908YQUoJLU_out.wav  hki3nWzfRnY_out.wav  PiuVtOemh9k_out.wav  XyZr2exJOco_out.wav\n",
            "a9E5Bxbv-u4_out.wav  HkJNaTQgjKM_out.wav  pIwn0udLJXI_out.wav  xz38nXsfBo8_out.wav\n",
            "aa_468eUE1o_out.wav  HKU-zmNFSxw_out.wav  pjbNLVQ_Iwk_out.wav  XzBFqu8fI68_out.wav\n",
            "AAB0AZGxF6w_out.wav  Hl6xcoyAHUY_out.wav  PjctNnCgD24_out.wav  XzlDa1dzUh4_out.wav\n",
            "AagemOzvoZE_out.wav  HluOhIKBbvA_out.wav  pjGGww7hasI_out.wav  _y07ENAx2_E_out.wav\n",
            "AaqfoHudOPI_out.wav  H_mBtFDCjZs_out.wav  --PJHxphWEs_out.wav  Y0GVlpaZp3c_out.wav\n",
            "AaT0JrbUCkg_out.wav  HMOBZHWOGCg_out.wav  PjjojjUn0bk_out.wav  Y0_Ixl1d7oQ_out.wav\n",
            "aBEiuYSSEH0_out.wav  -HN5kqCKpEA_out.wav  PJOaid2r_tA_out.wav  Y0wlLMIGmA0_out.wav\n",
            "aBfFtl1porE_out.wav  hnKRraemix8_out.wav  pk0xBpBk0s0_out.wav  Y1ItBiA8nKU_out.wav\n",
            "AblzVPbAyUg_out.wav  hNKTrKk4hZs_out.wav  pKbxVJDtDhI_out.wav  Y30BcbaayIc_out.wav\n",
            "Ade0UZnb6dw_out.wav  -HnNrGtKXp4_out.wav  PkMRV3AsBYs_out.wav  y3v0-NRB230_out.wav\n",
            "aeDZVfGk7bk_out.wav  hNtB9IeBxCw_out.wav  PKsdjH0RmsU_out.wav  y5BA7M-_6wM_out.wav\n",
            "AehuCjMsKUs_out.wav  hO8KCJPZK3I_out.wav  pkvhVWUd3EI_out.wav  y5I5pq0bXmg_out.wav\n",
            "AeLvUayUxy0_out.wav  hOJH4S0vF3M_out.wav  pLhau0UNNoM_out.wav  y5mdozqiREI_out.wav\n",
            "AEPQ1U4qFUQ_out.wav  HPibFpAiSI0_out.wav  pli4GNSAymM_out.wav  Y6m71zqm1QA_out.wav\n",
            "AEVz0KyQDt8_out.wav  HpkPTa1fQDE_out.wav  PlW8HtjzsoI_out.wav  Y6OOFbrzdP8_out.wav\n",
            "afkfqCzgSzc_out.wav  hq7A-jttyaw_out.wav  Plz7jhUlAWU_out.wav  Y7gHO40N114_out.wav\n",
            "AGfOAoOIUkU_out.wav  H-rAKFGTd-U_out.wav  pNirIUlYwNU_out.wav  Y7_uml59o94_out.wav\n",
            "AgJH6Ul1EFg_out.wav  Hrgl_1rGGU4_out.wav  PnJx0uLJ_oE_out.wav  Y9YhG2CFTz0_out.wav\n",
            "agK1OkzW5Yg_out.wav  HS2B8ctl-iA_out.wav  POOu05eUvqE_out.wav  Yaa_yq4ecog_out.wav\n",
            "agkoTtAp54U_out.wav  hsmmsNacS7k_out.wav  PP3kNqPM434_out.wav  YABeQ0ipHf0_out.wav\n",
            "agw-ujSdX0A_out.wav  -hsT6SyyhsM_out.wav  pP--79vW59k_out.wav  yBXY7wCn4aA_out.wav\n",
            "aH02jriJhNs_out.wav  _hT6LiQ1Cg0_out.wav  ppAT0f2YCyM_out.wav  Yd6uZbjtJ3c_out.wav\n",
            "Ah304Vt9l9U_out.wav  h_TDirl_Bi8_out.wav  ppCtPNVwU7I_out.wav  ydQaImgvhak_out.wav\n",
            "ahLyVqSRicE_out.wav  htDp-eDKhvs_out.wav  pPoesGaXwMs_out.wav  Y_e-1MYPEP8_out.wav\n",
            "AjDRLmZVHjI_out.wav  httbtpgwO2A_out.wav  PpY9Sm8wWOQ_out.wav  Ye3ZP6MjPsk_out.wav\n",
            "Aj_pcXRx8Pw_out.wav  HtXtfCR-MUg_out.wav  PqrVQCdgR94_out.wav  -yERwTDWZuU_out.wav\n",
            "_AJqf3uJTkw_out.wav  HVKFIQRKjx8_out.wav  PrMKUjFxrvQ_out.wav  YFav6eKmtWo_out.wav\n",
            "ajRuw95DCkM_out.wav  hwe6y-jSqdQ_out.wav  PRsZxwbHTlY_out.wav  yfFcNBQqe8E_out.wav\n",
            "AK0aZ--9C6g_out.wav  hwSOjoHFLn4_out.wav  PSnvT4-JYoc_out.wav  YFSopiUbIRM_out.wav\n",
            "alMl2-3KfV8_out.wav  hwVw1AS7yz0_out.wav  pSt8NwXyDlg_out.wav  yG1bzzXDIak_out.wav\n",
            "aluCLrmaoeM_out.wav  hwZevtk2AJk_out.wav  pte5jvRKwsA_out.wav  yg2lBioFnqs_out.wav\n",
            "AlVr7-ntuqw_out.wav  HXAebg4obiI_out.wav  ptHxsI2bt5g_out.wav  YGE_k0h00nY_out.wav\n",
            "AmJ3gQTMWAY_out.wav  hzznbzry5R8_out.wav  ptIHZv3KdJw_out.wav  yhbpAGdv_d8_out.wav\n",
            "AmP1CbovFcs_out.wav  i0VECHu-y6U_out.wav  PTiVK_SFNxc_out.wav  yhQnQ2DxSSc_out.wav\n",
            "amvaj68CwfM_out.wav  I3_SwBhnUj0_out.wav  PtL2Qr6XoLg_out.wav  YHW0XmpLi2k_out.wav\n",
            "ANaaOqwO0Uo_out.wav  I4yKEKiFHPQ_out.wav  pTZ8JBVBBBk_out.wav  YIBi4xyIXiQ_out.wav\n",
            "anujpzVRneY_out.wav  I5CBPhpimtg_out.wav  PUBw0WAMgsM_out.wav  YIEoZfu9faA_out.wav\n",
            "ANvGzVp_Ti8_out.wav  i5DEKRCepsg_out.wav  Pudonx9wkpY_out.wav  yiNRE6bnRxY_out.wav\n",
            "aOCtf6UEc8w_out.wav  I5kLABBGUU8_out.wav  pUj8u3mO4Hs_out.wav  YIxvfaehMpk_out.wav\n",
            "AOHOietFz0k_out.wav  I5MfWDvGp5Y_out.wav  pUPvir8l8HA_out.wav  yj8q-HS3eKU_out.wav\n",
            "aomaneVgUs0_out.wav  i5TlfRqdawk_out.wav  Pv8ZWvM8bhw_out.wav  yJPB7UlC4No_out.wav\n",
            "aPAa2sfhS7k_out.wav  i6MdAfHfo64_out.wav  pvBBNEJ7XG8_out.wav  YJyZriIF7fw_out.wav\n",
            "aQ2B2BTWfJU_out.wav  i73a0sVNyvA_out.wav  pVwPoANEqgU_out.wav  YjZkBPqh2FI_out.wav\n",
            "aQdZtz90Yzw_out.wav  i7_R921f1OA_out.wav  pW4DXRHftps_out.wav  yk9-ww_XBl0_out.wav\n",
            "AqmpvjeRVtY_out.wav  I81Km1IjfWk_out.wav  PwmXO0J-PAA_out.wav  YkHPBfPVvOM_out.wav\n",
            "AQsybSUDCiQ_out.wav  I8hY2m2cA5A_out.wav  pX4tBIwhOqY_out.wav  yKIE8sIQpJU_out.wav\n",
            "aR6rdYh_UpQ_out.wav  -i-9C48tduw_out.wav  PXxMW3PFhAc_out.wav  YkJ9ibE9DbA_out.wav\n",
            "ArQemnqgVbM_out.wav  I9qFesxOVwQ_out.wav  PxXR74Uohfg_out.wav  YKzNvH8wx6E_out.wav\n",
            "aSCH3Noht9A_out.wav  I9Ss5NLaowo_out.wav  Py5Q3upoW4E_out.wav  ylBlsFAeSzI_out.wav\n",
            "AsSPcPFgGdE_out.wav  I9wOEADtYkc_out.wav  py7QltGSJaQ_out.wav  yMdOxfnxkB0_out.wav\n",
            "-ASYwidRD7M_out.wav  IB0K3DktCsI_out.wav  pZbmULWeQKM_out.wav  YMKciM-oVeo_out.wav\n",
            "aszZlMhmhNw_out.wav  Ib6wI_Mag9M_out.wav  pZD66AVzQRY_out.wav  YmwDa5i-50w_out.wav\n",
            "a_t61PhbjdY_out.wav  ibrI5oETbRg_out.wav  pZKVYuLH05I_out.wav  YNoR-SR5t1s_out.wav\n",
            "aT8ZoRLiJf0_out.wav  IClVU7q66Cs_out.wav  pzMAY4sZ1IE_out.wav  YnpGmd_npAw_out.wav\n",
            "ath2TNOd1NU_out.wav  IC_Wpalzzm8_out.wav  PZNLi1HLDTU_out.wav  ynrj3K7SF4E_out.wav\n",
            "aTTCbXAqVBE_out.wav  Id4HgJVqRM8_out.wav  pzpg2-jYu6k_out.wav  Ynxg0xnrLZ0_out.wav\n",
            "au3EcuW7nHw_out.wav  ID-AT98D3Tc_out.wav  Q21kSb_OioI_out.wav  YnXpsJMqewo_out.wav\n",
            "AuAhSdfY-rs_out.wav  I_DXFVEn4w8_out.wav  Q2jwPh43w2Y_out.wav  yoK4rannXCw_out.wav\n",
            "AuVMi3pniEc_out.wav  ie2xo6AYzMc_out.wav  Q4OHaBzqqBY_out.wav  yp3C4sIjYi0_out.wav\n",
            "AV-A9n7szrI_out.wav  iEcWlreXhGc_out.wav  Q4pQKIHhsJk_out.wav  Yp3dpKDbisk_out.wav\n",
            "aVNcweinmEM_out.wav  Ieef9l-gWN8_out.wav  q51xIgewPjg_out.wav  Yp8jp9GlsSE_out.wav\n",
            "AVVfOYSmexM_out.wav  ieEPKa3HiGo_out.wav  q-5_Ed1aRSk_out.wav  YPtD_oiFqPg_out.wav\n",
            "Aw0eXIShRzk_out.wav  IEJmx9YngBI_out.wav  q6GBCmLxNIk_out.wav  _yqlQimkHpQ_out.wav\n",
            "awb9dareQmM_out.wav  iePMcLYozYY_out.wav  q6IgSdTK2Pw_out.wav  yQN9gj7Vk0w_out.wav\n",
            "AWjbtXIIE54_out.wav  IFCYE9YZEbc_out.wav  q6UIQq9ntAU_out.wav  YrCByX3Lm8Y_out.wav\n",
            "aXIQc2RtvfA_out.wav  IFN_nXsSU5c_out.wav  Q8D5rmIKgn0_out.wav  yRtvHRF80kg_out.wav\n",
            "AXrCD5KNLxQ_out.wav  Ig1BY5XogIc_out.wav  Q975D6bpK_c_out.wav  yScg02DM-jY_out.wav\n",
            "azlUFirpDLQ_out.wav  IGJLvxwzu-k_out.wav  QCbUlDMu7Hk_out.wav  -ysNtKG8FlU_out.wav\n",
            "aZMpTfhv71I_out.wav  iGugfnCM4u4_out.wav  Qcgg7w6TFQc_out.wav  YsOl6IoUGQI_out.wav\n",
            "AZO6ch_ocWg_out.wav  IhCR_WFKI_c_out.wav  Q-DcA41jeWk_out.wav  ySz3Fk39TOk_out.wav\n",
            "AZWvTwtpTPY_out.wav  iHEboXmVcLM_out.wav  QDRXDpVbjck_out.wav  YT7qvQiwwUY_out.wav\n",
            "b0NxLhmtQyE_out.wav  II1qAXeqvIQ_out.wav  QDvCzD1yP1o_out.wav  YTJfrKunnD0_out.wav\n",
            "b12xqPnM0So_out.wav  IISJXKl1Ih4_out.wav  qDXuGb91ld0_out.wav  YTP7YMaEm1s_out.wav\n",
            "B1ixRtiUJ-U_out.wav  iivpBBdgXzQ_out.wav  qeoYWM1uYPI_out.wav  YuLzs43Uk54_out.wav\n",
            "B1lSqZqY-Y0_out.wav  IizUHzmcPGA_out.wav  QF5LgcDxl30_out.wav  yURIdR7A1oM_out.wav\n",
            "B2yLFcmZ51I_out.wav  ijktm_elxCc_out.wav  Qg7U2fFyFVI_out.wav  YUtrI5mnqKM_out.wav\n",
            "B4lGhVjoMTk_out.wav  iJ-Yf2qIHPQ_out.wav  Q_h4l7_dYQU_out.wav  YvYljb3ox7w_out.wav\n",
            "B6zvUOhpdp0_out.wav  IKgUUuiCb1g_out.wav  qHcGinQK4ZI_out.wav  yw1K7Z3cz10_out.wav\n",
            "b7etZ94Mhrw_out.wav  ILCjO1sCcyM_out.wav  QhrlGP9nPHc_out.wav  Yw28B_xflHk_out.wav\n",
            "B7ZNC8h8Mmw_out.wav  iLTYwubzej0_out.wav  QIjShFhrp6w_out.wav  yWlQDUYFBHo_out.wav\n",
            "b8aC8b8iJIY_out.wav  IMp759tj4eU_out.wav  qiPKWD2Q3kE_out.wav  yX_rTfb-vcY_out.wav\n",
            "B9IAl-ygE2k_out.wav  InQs7K9MqaI_out.wav  -QivqOnaPIc_out.wav  YykyGidfpfw_out.wav\n",
            "B9sno0As9PY_out.wav  inua1iZ3BxY_out.wav  qL45Jqj57iw_out.wav  yyX02iD8ov4_out.wav\n",
            "baADET8QDUA_out.wav  IoQXE6MPIqA_out.wav  qLdM6hG_2wc_out.wav  yZ4Z2WZ5efw_out.wav\n",
            "bAHs6DWHpOA_out.wav  IOzFIWgL_IQ_out.wav  qlqJF5yPmUc_out.wav  yZm0BfXYvFg_out.wav\n",
            "baOGizjtS5s_out.wav  IPo39x2BV9c_out.wav  qlYhPNw7OiU_out.wav  Z0wT7ySAc6U_out.wav\n",
            "BaQDCSs1boY_out.wav  ipuwZG_lUrc_out.wav  qM8F6ECriRc_out.wav  Z2c1npe5AYY_out.wav\n",
            "BaQE00jWU4E_out.wav  IPzhnXeOogY_out.wav  QMbP3Yr2nmk_out.wav  Z2ktexkRb4w_out.wav\n",
            "BAVk6o3ZhMw_out.wav  iQAXwX28LLw_out.wav  qmV-LAFfNCY_out.wav  z36HQPCHVso_out.wav\n",
            "bBGcQ2-W768_out.wav  iqexZsorHsw_out.wav  QN8JhcutUBQ_out.wav  z3xiKSDoZEI_out.wav\n",
            "bc39DoAFVe0_out.wav  IQ-sogJoyXk_out.wav  QorAChtcYqo_out.wav  Z-4hWL2ceJQ_out.wav\n",
            "bcD4Px5qtsg_out.wav  Irmi9ojae_I_out.wav  QpChS3yekj4_out.wav  Z9Eo6INrPW4_out.wav\n",
            "bcTRI8TafQE_out.wav  IroOVamQZHQ_out.wav  qpN3Aqrr8mg_out.wav  ZaeARmx4m0k_out.wav\n",
            "bcUe0dvaCMs_out.wav  iSETDHfErjU_out.wav  QPVQcdmee54_out.wav  ZAjeW-QbPb4_out.wav\n",
            "bCVKnJVc4kc_out.wav  iSHfnvy5mkA_out.wav  QpX9dSCFxRI_out.wav  ZBzNxwQk9XE_out.wav\n",
            "bdxwVxFw82E_out.wav  ISSbIeziZJo_out.wav  qqbQ_oKmflM_out.wav  zC3MxGNQ4fY_out.wav\n",
            "BE3cTqYfb0c_out.wav  It3LIamYGVw_out.wav  QQRa033bdzE_out.wav  zcdr8KnM_hM_out.wav\n",
            "BE75JIPnEas_out.wav  -ItCGHv_9Gs_out.wav  QQuhjJNFEko_out.wav  zCw3ezp7jTE_out.wav\n",
            "bEakCMoF3HU_out.wav  ithYB82y0Sk_out.wav  qr7Z_1WM8pg_out.wav  ZDB9fuxt1zc_out.wav\n",
            "bEcnLT8GlE0_out.wav  ItstzW7xuDU_out.wav  qRgefptkDeo_out.wav  ZDPqrA4-jK0_out.wav\n",
            "bEeVH8K8k4s_out.wav  ITWq1idRYGE_out.wav  q_rPTSzG_xE_out.wav  zehrfcBC1Ac_out.wav\n",
            "B-EO_CbvXnA_out.wav  Iu1nK9ixxAc_out.wav  QrvCNyQn3HU_out.wav  zeu9lKvRgFU_out.wav\n",
            "BEuIJ5dw5kY_out.wav  IusuWEAoIoY_out.wav  qrzNABqN420_out.wav  zFRreJxXDFw_out.wav\n",
            "Bf0r1QRW8q4_out.wav  iUxy2s5d60o_out.wav  qScYFWGGrU0_out.wav  ZgETi-EhDRU_out.wav\n",
            "bf8JlTKzOs8_out.wav  IvJN56JyAy0_out.wav  QSFVqtx-Co8_out.wav  ZGIeTq8W-Uw_out.wav\n",
            "bgPABUZA8Mk_out.wav  ivymRS3iEZk_out.wav  q-sJu8CoZts_out.wav  Zh9sTcXFQ_I_out.wav\n",
            "bg_QoesbfOA_out.wav  IWMMkp35d6Y_out.wav  QTkGNFC0pE4_out.wav  zidKg4l1uN8_out.wav\n",
            "BgYlu44UIeM_out.wav  iXCg-9B_K_8_out.wav  QtTYZ4EHwpo_out.wav  ziMPK1UTMWI_out.wav\n",
            "Bh7cR2Tqc4g_out.wav  IXVXGMPG0dA_out.wav  qu4_HQoObdQ_out.wav  ZJ0LOJiCrQg_out.wav\n",
            "bHr2TpszpYM_out.wav  IYhY5YQrvLs_out.wav  Qu76GhRO9Yk_out.wav  Zjcgd631S7k_out.wav\n",
            "BI4fjQBZliY_out.wav  Iz2DIRooIqo_out.wav  QUO4olgDVes_out.wav  zkDC_-zqqKY_out.wav\n",
            "BiPwCMlghhQ_out.wav  -J0H5ah1G7A_out.wav  qutPvh6TFd8_out.wav  zkM9x8Y2WFg_out.wav\n",
            "BIV3t1tHTT4_out.wav  J0HWQBkDook_out.wav  QveRrhIrdQA_out.wav  ZKNPwvbt1M0_out.wav\n",
            "Bj8ORprzR6Y_out.wav  j0UMI2DrnMA_out.wav  qvOP_q727u0_out.wav  zKuLv-3p4NM_out.wav\n",
            "BjaFlBPF4ZM_out.wav  _J0wHlXPe34_out.wav  qvQ32kGdov0_out.wav  ZLHKYeoCtyA_out.wav\n",
            "bJbiHhHlq8c_out.wav  J1nIXpnMe1U_out.wav  Q_vxo7gs_PM_out.wav  zlt89JkjR8c_out.wav\n",
            "BjKEzvmaQAA_out.wav  J-1T8_mIJPM_out.wav  QWETUCCWNyA_out.wav  Zm3IrzA_ZPs_out.wav\n",
            "bjP0DOt4-VI_out.wav  j2AkqjYsK8I_out.wav  qwo0e0XC-UM_out.wav  ZmbO1DwmUZY_out.wav\n",
            "BjWf0keANT8_out.wav  j3aYWm8uAbI_out.wav  qWQzVtxx2Ts_out.wav  z_mf1ceM8jc_out.wav\n",
            "bKElFoe01aQ_out.wav  j4A1ObGurUk_out.wav  qwz7oLASJqg_out.wav  ZmhwOS11ciM_out.wav\n",
            "bkHRmze-Pvs_out.wav  j4O-c4hSDYI_out.wav  qxeNFkBub5g_out.wav  ZMqvgkdkmJI_out.wav\n",
            "BkL4Il1Vmtc_out.wav  J5MslZSjCuk_out.wav  __qxgIqI0uA_out.wav  ZmqXWTBOkDg_out.wav\n",
            "bKm2_67xtVs_out.wav  j5pXn8wSED0_out.wav  qxWVr67g6yY_out.wav  ZN0HSZLPjPw_out.wav\n",
            "b_KtUga1_pg_out.wav  J66cd8MLqK4_out.wav  Qy77eJc72UQ_out.wav  zokD5rKQkag_out.wav\n",
            "bKWc8u79cfg_out.wav  j8FYy5YfK7k_out.wav  QyMcSnNsAPw_out.wav  -zOybsEdM5E_out.wav\n",
            "-blH_CYo09w_out.wav  j8rYqLVl748_out.wav  qyNPOCSy0ek_out.wav  ZpNgv_lXz4M_out.wav\n",
            "blqm5QygivU_out.wav  j8z9a9A8LV4_out.wav  Qyq67PSyedI_out.wav  zpsRUIBJLH8_out.wav\n",
            "bM8YGsAmeqE_out.wav  J9zPsO6DmSE_out.wav  qyT42nX_Ors_out.wav  ZPZa1zMpxBU_out.wav\n",
            "bMcuStzUhNo_out.wav  J9ZQcJJBmj4_out.wav  Qz--Aq7nNHk_out.wav  zQ142NOrgwA_out.wav\n",
            "BMxgDBoPv_0_out.wav  ja-iLfI1ryE_out.wav  QZoP0bHWb8U_out.wav  ZrX9I_dJXQU_out.wav\n",
            "BoeZQKVuwA4_out.wav  jBsj79pedps_out.wav  Q_zr6NmwyuA_out.wav  ZSItez9gTyY_out.wav\n",
            "BOoXaJfTsrQ_out.wav  jC2Aq6BmqlQ_out.wav  r2gYE6-cGx8_out.wav  _Zsk5Fxqbkc_out.wav\n",
            "BpB7qp4bn-4_out.wav  JCYrKbHpSlQ_out.wav  r4G71I1dFpA_out.wav  zt5bY2ZM5yM_out.wav\n",
            "BPGZsM5gWO4_out.wav  jCZFZXNAuS0_out.wav  r4S44q6c2eQ_out.wav  ZtcHktwEfAU_out.wav\n",
            "BQ1JuiTKfAQ_out.wav  jdVLcIA9p9g_out.wav  r4UhqWUHge8_out.wav  zu4PEWKdeGw_out.wav\n",
            "BQikVnHehaM_out.wav  je1amtXOKF4_out.wav  r5xe8ttPUXY_out.wav  zUcJanqZoO8_out.wav\n",
            "BqQxzzVkToc_out.wav  jeBOdJ3ctVw_out.wav  R6PP93tqBJY_out.wav  zUCZ4R0NNes_out.wav\n",
            "BQWPvKrN07c_out.wav  jerBFHnx9es_out.wav  r7q_uqYTZcc_out.wav  ZUg7rRpFGvA_out.wav\n",
            "br4A2uNud50_out.wav  JEvaWSdgptQ_out.wav  R9g0Jqb6vGA_out.wav  ZuJIlrPZeWE_out.wav\n",
            "BRje9BbrlgI_out.wav  JFa31UL1FWU_out.wav  _Ra1Y6K7nSs_out.wav  zUy7zD4t2w4_out.wav\n",
            "BSLriWJ7hn8_out.wav  JFbS_nVA-KI_out.wav  RaYvMwQd3cs_out.wav  zVLqS6y0yxE_out.wav\n",
            "bsqZfi-_1Y0_out.wav  jfE9TRDZEMs_out.wav  rb9qg2lob0k_out.wav  Zvwpz91fKnU_out.wav\n",
            "bSTxg43_wBM_out.wav  JFGNmPzPXeA_out.wav  Rbvd_O2_Kbo_out.wav  ZWeqHkOh_qg_out.wav\n",
            "BTa9mc388f0_out.wav  JFGP2zm9Ipg_out.wav  rBwP5hxCAkI_out.wav  zWqvlnU-Kq8_out.wav\n",
            "bTlp5Qr99RY_out.wav  JFyxt67x9Bo_out.wav  _RbYie-Fxo4_out.wav  zxBo7nnAMVE_out.wav\n",
            "btwy0yCQL14_out.wav  jFyxzaclNa4_out.wav  rcKeFoxK7DM_out.wav  zXCxWEiqaw4_out.wav\n",
            "buqbpBG0I0s_out.wav  JgK5Gp9NJnk_out.wav  rCM5ba8Pz20_out.wav  zxeeysNrEvM_out.wav\n",
            "BUWbWTe7QrU_out.wav  jGyLbqYOW9I_out.wav  RcysC_NPdyg_out.wav  ZxJmzftSRQw_out.wav\n",
            "bVLFkizgE44_out.wav  JIAt20yy4FE_out.wav  RcZHjDxpAWA_out.wav  zYRI-R2gxUI_out.wav\n",
            "BVlh3igb-7g_out.wav  Jj4jQMWiWoU_out.wav  RDJe0O26B4Q_out.wav  zYsFbF9emtI_out.wav\n",
            "Bwy3Cs7vZT4_out.wav  jjEuTn00WXE_out.wav  RdQWZQqJuqo_out.wav  ZyWOua6VzZE_out.wav\n",
            "bxF2vxTzlvo_out.wav  jJft4HoeTPs_out.wav  -reNxUHvEl0_out.wav  ZZKEEh0Zrpg_out.wav\n",
            "B-XS7rGmG0o_out.wav  jJh5PETGihs_out.wav  REZ4EsC7Bmc_out.wav  zzlK8KDqlr0_out.wav\n",
            "BYk9vYAh-kM_out.wav  -JKLmqDk9p8_out.wav  rFAu82IS-hU_out.wav  ZzyWbehtt0M_out.wav\n",
            "byn8wefW6dM_out.wav  jklPXWVY718_out.wav  RfGSlaxcN0w_out.wav\n"
          ]
        }
      ]
    },
    {
      "cell_type": "code",
      "source": [
        "!pip show torchvision"
      ],
      "metadata": {
        "colab": {
          "base_uri": "https://localhost:8080/"
        },
        "id": "TJgM0Us0urwx",
        "outputId": "e30fee75-891f-4dbf-df9b-7be0e1f4d609"
      },
      "execution_count": 16,
      "outputs": [
        {
          "output_type": "stream",
          "name": "stdout",
          "text": [
            "Name: torchvision\n",
            "Version: 0.16.0+cu121\n",
            "Summary: image and video datasets and models for torch deep learning\n",
            "Home-page: https://github.com/pytorch/vision\n",
            "Author: PyTorch Core Team\n",
            "Author-email: soumith@pytorch.org\n",
            "License: BSD\n",
            "Location: /usr/local/lib/python3.10/dist-packages\n",
            "Requires: numpy, pillow, requests, torch\n",
            "Required-by: fastai\n"
          ]
        }
      ]
    },
    {
      "cell_type": "code",
      "source": [
        "!pip install --upgrade torchvision"
      ],
      "metadata": {
        "colab": {
          "base_uri": "https://localhost:8080/",
          "height": 1000
        },
        "id": "6ULbb1g3uuIu",
        "outputId": "6c71fb0e-5d51-48b5-e71b-d446ce9ddeb6"
      },
      "execution_count": 17,
      "outputs": [
        {
          "output_type": "stream",
          "name": "stdout",
          "text": [
            "Requirement already satisfied: torchvision in /usr/local/lib/python3.10/dist-packages (0.16.0+cu121)\n",
            "Collecting torchvision\n",
            "  Downloading torchvision-0.17.1-cp310-cp310-manylinux1_x86_64.whl (6.9 MB)\n",
            "\u001b[2K     \u001b[90m━━━━━━━━━━━━━━━━━━━━━━━━━━━━━━━━━━━━━━━━\u001b[0m \u001b[32m6.9/6.9 MB\u001b[0m \u001b[31m14.9 MB/s\u001b[0m eta \u001b[36m0:00:00\u001b[0m\n",
            "\u001b[?25hRequirement already satisfied: numpy in /usr/local/lib/python3.10/dist-packages (from torchvision) (1.25.2)\n",
            "Collecting torch==2.2.1 (from torchvision)\n",
            "  Downloading torch-2.2.1-cp310-cp310-manylinux1_x86_64.whl (755.5 MB)\n",
            "\u001b[2K     \u001b[90m━━━━━━━━━━━━━━━━━━━━━━━━━━━━━━━━━━━━━━━━\u001b[0m \u001b[32m755.5/755.5 MB\u001b[0m \u001b[31m566.8 kB/s\u001b[0m eta \u001b[36m0:00:00\u001b[0m\n",
            "\u001b[?25hRequirement already satisfied: pillow!=8.3.*,>=5.3.0 in /usr/local/lib/python3.10/dist-packages (from torchvision) (9.4.0)\n",
            "Requirement already satisfied: filelock in /usr/local/lib/python3.10/dist-packages (from torch==2.2.1->torchvision) (3.13.1)\n",
            "Requirement already satisfied: typing-extensions>=4.8.0 in /usr/local/lib/python3.10/dist-packages (from torch==2.2.1->torchvision) (4.9.0)\n",
            "Requirement already satisfied: sympy in /usr/local/lib/python3.10/dist-packages (from torch==2.2.1->torchvision) (1.12)\n",
            "Requirement already satisfied: networkx in /usr/local/lib/python3.10/dist-packages (from torch==2.2.1->torchvision) (3.2.1)\n",
            "Requirement already satisfied: jinja2 in /usr/local/lib/python3.10/dist-packages (from torch==2.2.1->torchvision) (3.1.3)\n",
            "Requirement already satisfied: fsspec in /usr/local/lib/python3.10/dist-packages (from torch==2.2.1->torchvision) (2023.6.0)\n",
            "Collecting nvidia-cuda-nvrtc-cu12==12.1.105 (from torch==2.2.1->torchvision)\n",
            "  Downloading nvidia_cuda_nvrtc_cu12-12.1.105-py3-none-manylinux1_x86_64.whl (23.7 MB)\n",
            "\u001b[2K     \u001b[90m━━━━━━━━━━━━━━━━━━━━━━━━━━━━━━━━━━━━━━━━\u001b[0m \u001b[32m23.7/23.7 MB\u001b[0m \u001b[31m33.5 MB/s\u001b[0m eta \u001b[36m0:00:00\u001b[0m\n",
            "\u001b[?25hCollecting nvidia-cuda-runtime-cu12==12.1.105 (from torch==2.2.1->torchvision)\n",
            "  Downloading nvidia_cuda_runtime_cu12-12.1.105-py3-none-manylinux1_x86_64.whl (823 kB)\n",
            "\u001b[2K     \u001b[90m━━━━━━━━━━━━━━━━━━━━━━━━━━━━━━━━━━━━━━━━\u001b[0m \u001b[32m823.6/823.6 kB\u001b[0m \u001b[31m54.6 MB/s\u001b[0m eta \u001b[36m0:00:00\u001b[0m\n",
            "\u001b[?25hCollecting nvidia-cuda-cupti-cu12==12.1.105 (from torch==2.2.1->torchvision)\n",
            "  Downloading nvidia_cuda_cupti_cu12-12.1.105-py3-none-manylinux1_x86_64.whl (14.1 MB)\n",
            "\u001b[2K     \u001b[90m━━━━━━━━━━━━━━━━━━━━━━━━━━━━━━━━━━━━━━━━\u001b[0m \u001b[32m14.1/14.1 MB\u001b[0m \u001b[31m59.4 MB/s\u001b[0m eta \u001b[36m0:00:00\u001b[0m\n",
            "\u001b[?25hCollecting nvidia-cudnn-cu12==8.9.2.26 (from torch==2.2.1->torchvision)\n",
            "  Downloading nvidia_cudnn_cu12-8.9.2.26-py3-none-manylinux1_x86_64.whl (731.7 MB)\n",
            "\u001b[2K     \u001b[90m━━━━━━━━━━━━━━━━━━━━━━━━━━━━━━━━━━━━━━━━\u001b[0m \u001b[32m731.7/731.7 MB\u001b[0m \u001b[31m1.7 MB/s\u001b[0m eta \u001b[36m0:00:00\u001b[0m\n",
            "\u001b[?25hCollecting nvidia-cublas-cu12==12.1.3.1 (from torch==2.2.1->torchvision)\n",
            "  Downloading nvidia_cublas_cu12-12.1.3.1-py3-none-manylinux1_x86_64.whl (410.6 MB)\n",
            "\u001b[2K     \u001b[90m━━━━━━━━━━━━━━━━━━━━━━━━━━━━━━━━━━━━━━━━\u001b[0m \u001b[32m410.6/410.6 MB\u001b[0m \u001b[31m2.4 MB/s\u001b[0m eta \u001b[36m0:00:00\u001b[0m\n",
            "\u001b[?25hCollecting nvidia-cufft-cu12==11.0.2.54 (from torch==2.2.1->torchvision)\n",
            "  Downloading nvidia_cufft_cu12-11.0.2.54-py3-none-manylinux1_x86_64.whl (121.6 MB)\n",
            "\u001b[2K     \u001b[90m━━━━━━━━━━━━━━━━━━━━━━━━━━━━━━━━━━━━━━━━\u001b[0m \u001b[32m121.6/121.6 MB\u001b[0m \u001b[31m8.5 MB/s\u001b[0m eta \u001b[36m0:00:00\u001b[0m\n",
            "\u001b[?25hCollecting nvidia-curand-cu12==10.3.2.106 (from torch==2.2.1->torchvision)\n",
            "  Downloading nvidia_curand_cu12-10.3.2.106-py3-none-manylinux1_x86_64.whl (56.5 MB)\n",
            "\u001b[2K     \u001b[90m━━━━━━━━━━━━━━━━━━━━━━━━━━━━━━━━━━━━━━━━\u001b[0m \u001b[32m56.5/56.5 MB\u001b[0m \u001b[31m10.4 MB/s\u001b[0m eta \u001b[36m0:00:00\u001b[0m\n",
            "\u001b[?25hCollecting nvidia-cusolver-cu12==11.4.5.107 (from torch==2.2.1->torchvision)\n",
            "  Downloading nvidia_cusolver_cu12-11.4.5.107-py3-none-manylinux1_x86_64.whl (124.2 MB)\n",
            "\u001b[2K     \u001b[90m━━━━━━━━━━━━━━━━━━━━━━━━━━━━━━━━━━━━━━━━\u001b[0m \u001b[32m124.2/124.2 MB\u001b[0m \u001b[31m7.3 MB/s\u001b[0m eta \u001b[36m0:00:00\u001b[0m\n",
            "\u001b[?25hCollecting nvidia-cusparse-cu12==12.1.0.106 (from torch==2.2.1->torchvision)\n",
            "  Downloading nvidia_cusparse_cu12-12.1.0.106-py3-none-manylinux1_x86_64.whl (196.0 MB)\n",
            "\u001b[2K     \u001b[90m━━━━━━━━━━━━━━━━━━━━━━━━━━━━━━━━━━━━━━━━\u001b[0m \u001b[32m196.0/196.0 MB\u001b[0m \u001b[31m2.5 MB/s\u001b[0m eta \u001b[36m0:00:00\u001b[0m\n",
            "\u001b[?25hCollecting nvidia-nccl-cu12==2.19.3 (from torch==2.2.1->torchvision)\n",
            "  Downloading nvidia_nccl_cu12-2.19.3-py3-none-manylinux1_x86_64.whl (166.0 MB)\n",
            "\u001b[2K     \u001b[90m━━━━━━━━━━━━━━━━━━━━━━━━━━━━━━━━━━━━━━━━\u001b[0m \u001b[32m166.0/166.0 MB\u001b[0m \u001b[31m6.0 MB/s\u001b[0m eta \u001b[36m0:00:00\u001b[0m\n",
            "\u001b[?25hCollecting nvidia-nvtx-cu12==12.1.105 (from torch==2.2.1->torchvision)\n",
            "  Downloading nvidia_nvtx_cu12-12.1.105-py3-none-manylinux1_x86_64.whl (99 kB)\n",
            "\u001b[2K     \u001b[90m━━━━━━━━━━━━━━━━━━━━━━━━━━━━━━━━━━━━━━━━\u001b[0m \u001b[32m99.1/99.1 kB\u001b[0m \u001b[31m11.7 MB/s\u001b[0m eta \u001b[36m0:00:00\u001b[0m\n",
            "\u001b[?25hCollecting triton==2.2.0 (from torch==2.2.1->torchvision)\n",
            "  Downloading triton-2.2.0-cp310-cp310-manylinux_2_17_x86_64.manylinux2014_x86_64.whl (167.9 MB)\n",
            "\u001b[2K     \u001b[90m━━━━━━━━━━━━━━━━━━━━━━━━━━━━━━━━━━━━━━━━\u001b[0m \u001b[32m167.9/167.9 MB\u001b[0m \u001b[31m2.4 MB/s\u001b[0m eta \u001b[36m0:00:00\u001b[0m\n",
            "\u001b[?25hCollecting nvidia-nvjitlink-cu12 (from nvidia-cusolver-cu12==11.4.5.107->torch==2.2.1->torchvision)\n",
            "  Downloading nvidia_nvjitlink_cu12-12.3.101-py3-none-manylinux1_x86_64.whl (20.5 MB)\n",
            "\u001b[2K     \u001b[90m━━━━━━━━━━━━━━━━━━━━━━━━━━━━━━━━━━━━━━━━\u001b[0m \u001b[32m20.5/20.5 MB\u001b[0m \u001b[31m57.9 MB/s\u001b[0m eta \u001b[36m0:00:00\u001b[0m\n",
            "\u001b[?25hRequirement already satisfied: MarkupSafe>=2.0 in /usr/local/lib/python3.10/dist-packages (from jinja2->torch==2.2.1->torchvision) (2.1.5)\n",
            "Requirement already satisfied: mpmath>=0.19 in /usr/local/lib/python3.10/dist-packages (from sympy->torch==2.2.1->torchvision) (1.3.0)\n",
            "Installing collected packages: triton, nvidia-nvtx-cu12, nvidia-nvjitlink-cu12, nvidia-nccl-cu12, nvidia-curand-cu12, nvidia-cufft-cu12, nvidia-cuda-runtime-cu12, nvidia-cuda-nvrtc-cu12, nvidia-cuda-cupti-cu12, nvidia-cublas-cu12, nvidia-cusparse-cu12, nvidia-cudnn-cu12, nvidia-cusolver-cu12, torch, torchvision\n",
            "  Attempting uninstall: triton\n",
            "    Found existing installation: triton 2.1.0\n",
            "    Uninstalling triton-2.1.0:\n",
            "      Successfully uninstalled triton-2.1.0\n",
            "  Attempting uninstall: torch\n",
            "    Found existing installation: torch 2.1.0+cu121\n",
            "    Uninstalling torch-2.1.0+cu121:\n",
            "      Successfully uninstalled torch-2.1.0+cu121\n",
            "  Attempting uninstall: torchvision\n",
            "    Found existing installation: torchvision 0.16.0+cu121\n",
            "    Uninstalling torchvision-0.16.0+cu121:\n",
            "      Successfully uninstalled torchvision-0.16.0+cu121\n",
            "\u001b[31mERROR: pip's dependency resolver does not currently take into account all the packages that are installed. This behaviour is the source of the following dependency conflicts.\n",
            "torchaudio 2.1.0+cu121 requires torch==2.1.0, but you have torch 2.2.1 which is incompatible.\n",
            "torchdata 0.7.0 requires torch==2.1.0, but you have torch 2.2.1 which is incompatible.\n",
            "torchtext 0.16.0 requires torch==2.1.0, but you have torch 2.2.1 which is incompatible.\u001b[0m\u001b[31m\n",
            "\u001b[0mSuccessfully installed nvidia-cublas-cu12-12.1.3.1 nvidia-cuda-cupti-cu12-12.1.105 nvidia-cuda-nvrtc-cu12-12.1.105 nvidia-cuda-runtime-cu12-12.1.105 nvidia-cudnn-cu12-8.9.2.26 nvidia-cufft-cu12-11.0.2.54 nvidia-curand-cu12-10.3.2.106 nvidia-cusolver-cu12-11.4.5.107 nvidia-cusparse-cu12-12.1.0.106 nvidia-nccl-cu12-2.19.3 nvidia-nvjitlink-cu12-12.3.101 nvidia-nvtx-cu12-12.1.105 torch-2.2.1 torchvision-0.17.1 triton-2.2.0\n"
          ]
        },
        {
          "output_type": "display_data",
          "data": {
            "application/vnd.colab-display-data+json": {
              "pip_warning": {
                "packages": [
                  "torch",
                  "torchgen",
                  "torchvision"
                ]
              }
            }
          },
          "metadata": {}
        }
      ]
    },
    {
      "cell_type": "code",
      "source": [
        "import torchvision.datasets.folder as folder\n",
        "data_path='/content/drive/MyDrive/archive-3'\n"
      ],
      "metadata": {
        "id": "a5nOLNVIuypt"
      },
      "execution_count": 9,
      "outputs": []
    },
    {
      "cell_type": "code",
      "source": [
        "import torchvision.datasets as datasets\n",
        "import torchvision.transforms as transforms\n",
        "from torch.utils.data import DataLoader\n"
      ],
      "metadata": {
        "id": "YWn-qtu6x76f"
      },
      "execution_count": 10,
      "outputs": []
    },
    {
      "cell_type": "code",
      "source": [
        "transform = transforms.Compose([\n",
        "    transforms.Resize((64, 862)),  # Resize images\n",
        "    transforms.ToTensor()           # Convert images to PyTorch tensors\n",
        "])"
      ],
      "metadata": {
        "id": "DNQHmDH4x2w7"
      },
      "execution_count": 11,
      "outputs": []
    },
    {
      "cell_type": "code",
      "source": [
        "extensions = ['.jpg', '.jpeg', '.png', '.ppm', '.bmp', '.pgm', '.tif', '.tiff', '.webp']\n",
        "for extension in extensions:\n",
        "  !find {data_path} -name '*.{extension}'"
      ],
      "metadata": {
        "id": "TCWy6khD0OoQ"
      },
      "execution_count": 30,
      "outputs": []
    },
    {
      "cell_type": "code",
      "source": [
        "scream_dataset = datasets.ImageFolder(\n",
        "    root=data_path,transform = transforms.Compose([\n",
        "    transforms.Resize((64, 862)),  # Resize images\n",
        "    transforms.ToTensor()])           # Convert images to PyTorch tensors\n",
        ")"
      ],
      "metadata": {
        "colab": {
          "base_uri": "https://localhost:8080/",
          "height": 469
        },
        "id": "_JdQ77iHzJCU",
        "outputId": "1cec306d-5d7e-464e-e5c4-1aacf57ea141"
      },
      "execution_count": 31,
      "outputs": [
        {
          "output_type": "error",
          "ename": "FileNotFoundError",
          "evalue": "Found no valid file for the classes NotScreaming, Screaming. Supported extensions are: .jpg, .jpeg, .png, .ppm, .bmp, .pgm, .tif, .tiff, .webp",
          "traceback": [
            "\u001b[0;31m---------------------------------------------------------------------------\u001b[0m",
            "\u001b[0;31mFileNotFoundError\u001b[0m                         Traceback (most recent call last)",
            "\u001b[0;32m<ipython-input-31-d4a7129119ad>\u001b[0m in \u001b[0;36m<cell line: 1>\u001b[0;34m()\u001b[0m\n\u001b[0;32m----> 1\u001b[0;31m scream_dataset = datasets.ImageFolder(\n\u001b[0m\u001b[1;32m      2\u001b[0m     root=data_path,transform = transforms.Compose([\n\u001b[1;32m      3\u001b[0m     \u001b[0mtransforms\u001b[0m\u001b[0;34m.\u001b[0m\u001b[0mResize\u001b[0m\u001b[0;34m(\u001b[0m\u001b[0;34m(\u001b[0m\u001b[0;36m64\u001b[0m\u001b[0;34m,\u001b[0m \u001b[0;36m862\u001b[0m\u001b[0;34m)\u001b[0m\u001b[0;34m)\u001b[0m\u001b[0;34m,\u001b[0m  \u001b[0;31m# Resize images\u001b[0m\u001b[0;34m\u001b[0m\u001b[0;34m\u001b[0m\u001b[0m\n\u001b[1;32m      4\u001b[0m     transforms.ToTensor()])           # Convert images to PyTorch tensors\n\u001b[1;32m      5\u001b[0m )\n",
            "\u001b[0;32m/usr/local/lib/python3.10/dist-packages/torchvision/datasets/folder.py\u001b[0m in \u001b[0;36m__init__\u001b[0;34m(self, root, transform, target_transform, loader, is_valid_file)\u001b[0m\n\u001b[1;32m    307\u001b[0m         \u001b[0mis_valid_file\u001b[0m\u001b[0;34m:\u001b[0m \u001b[0mOptional\u001b[0m\u001b[0;34m[\u001b[0m\u001b[0mCallable\u001b[0m\u001b[0;34m[\u001b[0m\u001b[0;34m[\u001b[0m\u001b[0mstr\u001b[0m\u001b[0;34m]\u001b[0m\u001b[0;34m,\u001b[0m \u001b[0mbool\u001b[0m\u001b[0;34m]\u001b[0m\u001b[0;34m]\u001b[0m \u001b[0;34m=\u001b[0m \u001b[0;32mNone\u001b[0m\u001b[0;34m,\u001b[0m\u001b[0;34m\u001b[0m\u001b[0;34m\u001b[0m\u001b[0m\n\u001b[1;32m    308\u001b[0m     ):\n\u001b[0;32m--> 309\u001b[0;31m         super().__init__(\n\u001b[0m\u001b[1;32m    310\u001b[0m             \u001b[0mroot\u001b[0m\u001b[0;34m,\u001b[0m\u001b[0;34m\u001b[0m\u001b[0;34m\u001b[0m\u001b[0m\n\u001b[1;32m    311\u001b[0m             \u001b[0mloader\u001b[0m\u001b[0;34m,\u001b[0m\u001b[0;34m\u001b[0m\u001b[0;34m\u001b[0m\u001b[0m\n",
            "\u001b[0;32m/usr/local/lib/python3.10/dist-packages/torchvision/datasets/folder.py\u001b[0m in \u001b[0;36m__init__\u001b[0;34m(self, root, loader, extensions, transform, target_transform, is_valid_file)\u001b[0m\n\u001b[1;32m    143\u001b[0m         \u001b[0msuper\u001b[0m\u001b[0;34m(\u001b[0m\u001b[0;34m)\u001b[0m\u001b[0;34m.\u001b[0m\u001b[0m__init__\u001b[0m\u001b[0;34m(\u001b[0m\u001b[0mroot\u001b[0m\u001b[0;34m,\u001b[0m \u001b[0mtransform\u001b[0m\u001b[0;34m=\u001b[0m\u001b[0mtransform\u001b[0m\u001b[0;34m,\u001b[0m \u001b[0mtarget_transform\u001b[0m\u001b[0;34m=\u001b[0m\u001b[0mtarget_transform\u001b[0m\u001b[0;34m)\u001b[0m\u001b[0;34m\u001b[0m\u001b[0;34m\u001b[0m\u001b[0m\n\u001b[1;32m    144\u001b[0m         \u001b[0mclasses\u001b[0m\u001b[0;34m,\u001b[0m \u001b[0mclass_to_idx\u001b[0m \u001b[0;34m=\u001b[0m \u001b[0mself\u001b[0m\u001b[0;34m.\u001b[0m\u001b[0mfind_classes\u001b[0m\u001b[0;34m(\u001b[0m\u001b[0mself\u001b[0m\u001b[0;34m.\u001b[0m\u001b[0mroot\u001b[0m\u001b[0;34m)\u001b[0m\u001b[0;34m\u001b[0m\u001b[0;34m\u001b[0m\u001b[0m\n\u001b[0;32m--> 145\u001b[0;31m         \u001b[0msamples\u001b[0m \u001b[0;34m=\u001b[0m \u001b[0mself\u001b[0m\u001b[0;34m.\u001b[0m\u001b[0mmake_dataset\u001b[0m\u001b[0;34m(\u001b[0m\u001b[0mself\u001b[0m\u001b[0;34m.\u001b[0m\u001b[0mroot\u001b[0m\u001b[0;34m,\u001b[0m \u001b[0mclass_to_idx\u001b[0m\u001b[0;34m,\u001b[0m \u001b[0mextensions\u001b[0m\u001b[0;34m,\u001b[0m \u001b[0mis_valid_file\u001b[0m\u001b[0;34m)\u001b[0m\u001b[0;34m\u001b[0m\u001b[0;34m\u001b[0m\u001b[0m\n\u001b[0m\u001b[1;32m    146\u001b[0m \u001b[0;34m\u001b[0m\u001b[0m\n\u001b[1;32m    147\u001b[0m         \u001b[0mself\u001b[0m\u001b[0;34m.\u001b[0m\u001b[0mloader\u001b[0m \u001b[0;34m=\u001b[0m \u001b[0mloader\u001b[0m\u001b[0;34m\u001b[0m\u001b[0;34m\u001b[0m\u001b[0m\n",
            "\u001b[0;32m/usr/local/lib/python3.10/dist-packages/torchvision/datasets/folder.py\u001b[0m in \u001b[0;36mmake_dataset\u001b[0;34m(directory, class_to_idx, extensions, is_valid_file)\u001b[0m\n\u001b[1;32m    187\u001b[0m             \u001b[0;31m# is potentially overridden and thus could have a different logic.\u001b[0m\u001b[0;34m\u001b[0m\u001b[0;34m\u001b[0m\u001b[0m\n\u001b[1;32m    188\u001b[0m             \u001b[0;32mraise\u001b[0m \u001b[0mValueError\u001b[0m\u001b[0;34m(\u001b[0m\u001b[0;34m\"The class_to_idx parameter cannot be None.\"\u001b[0m\u001b[0;34m)\u001b[0m\u001b[0;34m\u001b[0m\u001b[0;34m\u001b[0m\u001b[0m\n\u001b[0;32m--> 189\u001b[0;31m         \u001b[0;32mreturn\u001b[0m \u001b[0mmake_dataset\u001b[0m\u001b[0;34m(\u001b[0m\u001b[0mdirectory\u001b[0m\u001b[0;34m,\u001b[0m \u001b[0mclass_to_idx\u001b[0m\u001b[0;34m,\u001b[0m \u001b[0mextensions\u001b[0m\u001b[0;34m=\u001b[0m\u001b[0mextensions\u001b[0m\u001b[0;34m,\u001b[0m \u001b[0mis_valid_file\u001b[0m\u001b[0;34m=\u001b[0m\u001b[0mis_valid_file\u001b[0m\u001b[0;34m)\u001b[0m\u001b[0;34m\u001b[0m\u001b[0;34m\u001b[0m\u001b[0m\n\u001b[0m\u001b[1;32m    190\u001b[0m \u001b[0;34m\u001b[0m\u001b[0m\n\u001b[1;32m    191\u001b[0m     \u001b[0;32mdef\u001b[0m \u001b[0mfind_classes\u001b[0m\u001b[0;34m(\u001b[0m\u001b[0mself\u001b[0m\u001b[0;34m,\u001b[0m \u001b[0mdirectory\u001b[0m\u001b[0;34m:\u001b[0m \u001b[0mstr\u001b[0m\u001b[0;34m)\u001b[0m \u001b[0;34m->\u001b[0m \u001b[0mTuple\u001b[0m\u001b[0;34m[\u001b[0m\u001b[0mList\u001b[0m\u001b[0;34m[\u001b[0m\u001b[0mstr\u001b[0m\u001b[0;34m]\u001b[0m\u001b[0;34m,\u001b[0m \u001b[0mDict\u001b[0m\u001b[0;34m[\u001b[0m\u001b[0mstr\u001b[0m\u001b[0;34m,\u001b[0m \u001b[0mint\u001b[0m\u001b[0;34m]\u001b[0m\u001b[0;34m]\u001b[0m\u001b[0;34m:\u001b[0m\u001b[0;34m\u001b[0m\u001b[0;34m\u001b[0m\u001b[0m\n",
            "\u001b[0;32m/usr/local/lib/python3.10/dist-packages/torchvision/datasets/folder.py\u001b[0m in \u001b[0;36mmake_dataset\u001b[0;34m(directory, class_to_idx, extensions, is_valid_file)\u001b[0m\n\u001b[1;32m    100\u001b[0m         \u001b[0;32mif\u001b[0m \u001b[0mextensions\u001b[0m \u001b[0;32mis\u001b[0m \u001b[0;32mnot\u001b[0m \u001b[0;32mNone\u001b[0m\u001b[0;34m:\u001b[0m\u001b[0;34m\u001b[0m\u001b[0;34m\u001b[0m\u001b[0m\n\u001b[1;32m    101\u001b[0m             \u001b[0mmsg\u001b[0m \u001b[0;34m+=\u001b[0m \u001b[0;34mf\"Supported extensions are: {extensions if isinstance(extensions, str) else ', '.join(extensions)}\"\u001b[0m\u001b[0;34m\u001b[0m\u001b[0;34m\u001b[0m\u001b[0m\n\u001b[0;32m--> 102\u001b[0;31m         \u001b[0;32mraise\u001b[0m \u001b[0mFileNotFoundError\u001b[0m\u001b[0;34m(\u001b[0m\u001b[0mmsg\u001b[0m\u001b[0;34m)\u001b[0m\u001b[0;34m\u001b[0m\u001b[0;34m\u001b[0m\u001b[0m\n\u001b[0m\u001b[1;32m    103\u001b[0m \u001b[0;34m\u001b[0m\u001b[0m\n\u001b[1;32m    104\u001b[0m     \u001b[0;32mreturn\u001b[0m \u001b[0minstances\u001b[0m\u001b[0;34m\u001b[0m\u001b[0;34m\u001b[0m\u001b[0m\n",
            "\u001b[0;31mFileNotFoundError\u001b[0m: Found no valid file for the classes NotScreaming, Screaming. Supported extensions are: .jpg, .jpeg, .png, .ppm, .bmp, .pgm, .tif, .tiff, .webp"
          ]
        }
      ]
    },
    {
      "cell_type": "code",
      "source": [
        "from torch.utils.data import ConcatDataset\n"
      ],
      "metadata": {
        "id": "iCl10qQvyVgr"
      },
      "execution_count": 13,
      "outputs": []
    },
    {
      "cell_type": "code",
      "source": [
        "import os"
      ],
      "metadata": {
        "id": "5UPQAwKNynZ9"
      },
      "execution_count": 15,
      "outputs": []
    },
    {
      "cell_type": "code",
      "source": [
        "subdirectories = [d for d in os.listdir(data_path) if os.path.isdir(os.path.join(data_path, d))]\n"
      ],
      "metadata": {
        "id": "FXI7cfJtydEz"
      },
      "execution_count": 16,
      "outputs": []
    },
    {
      "cell_type": "code",
      "source": [
        "import torch"
      ],
      "metadata": {
        "id": "fY-hWsLH0v_Y"
      },
      "execution_count": 36,
      "outputs": []
    },
    {
      "cell_type": "code",
      "source": [
        "#split data to test and train\n",
        "train_size = int(0.8 * len(data_path)) # We use 80% as train\n",
        "test_size = len(data_path) - train_size\n",
        "scream_train_dataset, scream_test_dataset = torch.utils.data.random_split(data_path, [train_size, test_size])\n",
        "\n",
        "print(\"Training size:\", len(scream_train_dataset))\n",
        "print(\"Testing size:\",len(scream_test_dataset))"
      ],
      "metadata": {
        "colab": {
          "base_uri": "https://localhost:8080/"
        },
        "id": "zTt1Shn0zlo6",
        "outputId": "fa8fcb2d-73c6-47be-dbae-4af24a27a3b7"
      },
      "execution_count": 37,
      "outputs": [
        {
          "output_type": "stream",
          "name": "stdout",
          "text": [
            "Training size: 25\n",
            "Testing size: 7\n"
          ]
        }
      ]
    },
    {
      "cell_type": "code",
      "source": [
        "train_dataloader = torch.utils.data.DataLoader(\n",
        "    scream_train_dataset,\n",
        "    batch_size=64,\n",
        "    num_workers=2,\n",
        "    shuffle=True\n",
        ")\n",
        "\n",
        "test_dataloader = torch.utils.data.DataLoader(\n",
        "    scream_test_dataset,\n",
        "    batch_size=64,\n",
        "    num_workers=2,\n",
        "    shuffle=True\n",
        ")"
      ],
      "metadata": {
        "id": "juHSPbIt1aDs"
      },
      "execution_count": 39,
      "outputs": []
    },
    {
      "cell_type": "markdown",
      "source": [
        "import model"
      ],
      "metadata": {
        "id": "2EiC1wAU1nYr"
      }
    },
    {
      "cell_type": "code",
      "source": [
        "from torchvision.models import resnet34, ResNet34_Weights\n",
        "import torch\n",
        "import torch.nn as nn\n",
        "\n",
        "device = 'cuda' if torch.cuda.is_available() else 'cpu'\n",
        "print(f'Using {device} device')\n",
        "\n",
        "# Updated model loading with weights\n",
        "model = resnet34(weights=ResNet34_Weights.IMAGENET1K_V1)\n",
        "\n",
        "# Updating the fully connected layer and the first convolutional layer\n",
        "model.fc = nn.Linear(512, 2)\n",
        "model.conv1 = nn.Conv2d(3, 64, kernel_size=7, stride=2, padding=3, bias=False)\n",
        "\n",
        "model = model.to(device)"
      ],
      "metadata": {
        "colab": {
          "base_uri": "https://localhost:8080/"
        },
        "id": "DiVb7EpI1pB6",
        "outputId": "4efb1218-6458-48aa-fe99-370665d8c308"
      },
      "execution_count": 41,
      "outputs": [
        {
          "output_type": "stream",
          "name": "stdout",
          "text": [
            "Using cpu device\n"
          ]
        },
        {
          "output_type": "stream",
          "name": "stderr",
          "text": [
            "Downloading: \"https://download.pytorch.org/models/resnet34-b627a593.pth\" to /root/.cache/torch/hub/checkpoints/resnet34-b627a593.pth\n",
            "100%|██████████| 83.3M/83.3M [00:02<00:00, 42.1MB/s]\n"
          ]
        }
      ]
    },
    {
      "cell_type": "markdown",
      "source": [
        "Define loss function and optimizer"
      ],
      "metadata": {
        "id": "5YSGWRQ616BC"
      }
    },
    {
      "cell_type": "code",
      "source": [
        "# cost function used to determine best parameters\n",
        "cost = torch.nn.CrossEntropyLoss()\n",
        "\n",
        "# used to create optimal parameters\n",
        "learning_rate = 0.001\n",
        "optimizer = torch.optim.Adam(model.parameters(), lr=learning_rate, weight_decay=0.0001)"
      ],
      "metadata": {
        "id": "qVsmdlfI161F"
      },
      "execution_count": 42,
      "outputs": []
    },
    {
      "cell_type": "markdown",
      "source": [
        "Train and Test function"
      ],
      "metadata": {
        "id": "BLsPCFYT2EHW"
      }
    },
    {
      "cell_type": "code",
      "source": [
        "def train(dataloader, model, loss, optimizer):\n",
        "    model.train()\n",
        "    size = len(dataloader.dataset)\n",
        "    correct = 0  # Counter for correct predictions\n",
        "    total = 0  # Counter for total examples\n",
        "\n",
        "    for batch, (X, Y) in enumerate(dataloader):\n",
        "\n",
        "        X, Y = X.to(device), Y.to(device)\n",
        "        optimizer.zero_grad()\n",
        "        pred = model(X)\n",
        "        loss = cost(pred, Y)\n",
        "        loss.backward()\n",
        "        optimizer.step()\n",
        "\n",
        "        # Compute accuracy\n",
        "        _, predicted = pred.max(1)\n",
        "        total += Y.size(0)\n",
        "        correct += predicted.eq(Y).sum().item()\n",
        "\n",
        "        if batch % 10 == 0:\n",
        "            loss, current = loss.item(), batch * len(X)\n",
        "            print(f'loss: {loss:>7f}  [{current:>5d}/{size:>5d}]  Train Accuracy: {(100 * correct / total):.2f}%')\n",
        "\n",
        "\n",
        "# Create the validation/test function\n",
        "\n",
        "def test(dataloader, model):\n",
        "    size = len(dataloader.dataset)\n",
        "    model.eval()\n",
        "    test_loss, correct = 0, 0\n",
        "\n",
        "    with torch.no_grad():\n",
        "        for batch, (X, Y) in enumerate(dataloader):\n",
        "            X, Y = X.to(device), Y.to(device)\n",
        "            pred = model(X)\n",
        "\n",
        "            test_loss += cost(pred, Y).item()\n",
        "            correct += (pred.argmax(1)==Y).type(torch.float).sum().item()\n",
        "\n",
        "    test_loss /= size\n",
        "    correct /= size\n",
        "\n",
        "    print(f'\\nTest Error:\\nacc: {(100*correct):>0.1f}%, avg loss: {test_loss:>8f}\\n')\n",
        "    return test_loss"
      ],
      "metadata": {
        "id": "snlK8Wud1_dk"
      },
      "execution_count": 43,
      "outputs": []
    },
    {
      "cell_type": "markdown",
      "source": [
        "Train the model"
      ],
      "metadata": {
        "id": "AF0xehyH2PxJ"
      }
    },
    {
      "cell_type": "code",
      "source": [
        "from torch.utils.data import DataLoader"
      ],
      "metadata": {
        "id": "cXdDk6pE2ndW"
      },
      "execution_count": 45,
      "outputs": []
    },
    {
      "cell_type": "code",
      "source": [
        "assert isinstance(train_dataloader, DataLoader)\n",
        "assert isinstance(test_dataloader, DataLoader)"
      ],
      "metadata": {
        "id": "cyFsTCZ-2qQl"
      },
      "execution_count": 46,
      "outputs": []
    },
    {
      "cell_type": "code",
      "source": [
        "def train(dataloader, model, loss, optimizer):\n",
        "    total = 0  # Counter for total examples\n",
        "    for batch, (X, Y) in enumerate(dataloader):\n",
        "        X, Y = X.to(device), Y.to(device)\n",
        "\n",
        ""
      ],
      "metadata": {
        "id": "qvnY9N5E2shc"
      },
      "execution_count": 47,
      "outputs": []
    },
    {
      "cell_type": "code",
      "source": [
        "def train(dataloader, model, loss, optimizer):\n",
        "    total = 0  # Counter for total examples\n",
        "    for batch, (X, Y) in enumerate(dataloader):\n",
        "        X, Y = X.to(device), Y.to(device).view(-1)  # Ensure Y has the correct shape\n",
        "\n",
        ""
      ],
      "metadata": {
        "id": "0n3aZqEZ2yLt"
      },
      "execution_count": 48,
      "outputs": []
    },
    {
      "cell_type": "code",
      "source": [
        "early_stopping_patience = 15  # Number of epochs to wait before early stopping\n",
        "best_loss = torch.inf\n",
        "wait = 0  # Counter for patience\n",
        "epochs = 150\n",
        "\n",
        "best_model_weights = None\n"
      ],
      "metadata": {
        "id": "8kKdakDW3lzi"
      },
      "execution_count": 54,
      "outputs": []
    },
    {
      "cell_type": "code",
      "source": [
        "def train(dataloader, model, loss, optimizer):\n",
        "    for batch in dataloader:\n",
        "        X, Y = batch\n",
        "        X, Y = X.to(device), Y.to(device).view(-1)  # Ensure Y has the correct shape\n",
        "        # ..."
      ],
      "metadata": {
        "id": "JAooljvU4In8"
      },
      "execution_count": 57,
      "outputs": []
    },
    {
      "cell_type": "code",
      "source": [
        "# Define your model, optimizer, loss function, and dataloaders\n",
        "\n",
        "optimizer = torch.optim.Adam(model.parameters(), lr=learning_rate)\n",
        "cost = torch.nn.CrossEntropyLoss()  # Assuming you're dealing with classification\n",
        "\n",
        "# Assuming you have train_dataloader and test_dataloader defined\n",
        "\n",
        "# Training loop\n",
        "for epoch in range(num_epochs):\n",
        "    print(f'Epoch {epoch + 1}/{num_epochs}')\n",
        "    print('-' * 10)\n",
        "\n",
        "    # Training phase\n",
        "    train(train_dataloader, model, cost, optimizer)\n",
        "\n",
        "    # Validation phase\n",
        "    test_loss = test(test_dataloader, model)\n",
        "\n",
        "    # Optionally, you can do additional logging or save the model based on validation performance\n",
        "    # For example:\n",
        "    # if test_loss < best_loss:\n",
        "    #     best_loss = test_loss\n",
        "    #     torch.save(model.state_dict(), 'best_model.pth')\n",
        "\n",
        "print('Training finished.')\n"
      ],
      "metadata": {
        "colab": {
          "base_uri": "https://localhost:8080/",
          "height": 241
        },
        "id": "SfXV3zZx5J51",
        "outputId": "b7a30831-8815-4c6e-8ad7-759c2c5bb34b"
      },
      "execution_count": 62,
      "outputs": [
        {
          "output_type": "error",
          "ename": "NameError",
          "evalue": "name 'num_epochs' is not defined",
          "traceback": [
            "\u001b[0;31m---------------------------------------------------------------------------\u001b[0m",
            "\u001b[0;31mNameError\u001b[0m                                 Traceback (most recent call last)",
            "\u001b[0;32m<ipython-input-62-10473a6f451d>\u001b[0m in \u001b[0;36m<cell line: 9>\u001b[0;34m()\u001b[0m\n\u001b[1;32m      7\u001b[0m \u001b[0;34m\u001b[0m\u001b[0m\n\u001b[1;32m      8\u001b[0m \u001b[0;31m# Training loop\u001b[0m\u001b[0;34m\u001b[0m\u001b[0;34m\u001b[0m\u001b[0m\n\u001b[0;32m----> 9\u001b[0;31m \u001b[0;32mfor\u001b[0m \u001b[0mepoch\u001b[0m \u001b[0;32min\u001b[0m \u001b[0mrange\u001b[0m\u001b[0;34m(\u001b[0m\u001b[0mnum_epochs\u001b[0m\u001b[0;34m)\u001b[0m\u001b[0;34m:\u001b[0m\u001b[0;34m\u001b[0m\u001b[0;34m\u001b[0m\u001b[0m\n\u001b[0m\u001b[1;32m     10\u001b[0m     \u001b[0mprint\u001b[0m\u001b[0;34m(\u001b[0m\u001b[0;34mf'Epoch {epoch + 1}/{num_epochs}'\u001b[0m\u001b[0;34m)\u001b[0m\u001b[0;34m\u001b[0m\u001b[0;34m\u001b[0m\u001b[0m\n\u001b[1;32m     11\u001b[0m     \u001b[0mprint\u001b[0m\u001b[0;34m(\u001b[0m\u001b[0;34m'-'\u001b[0m \u001b[0;34m*\u001b[0m \u001b[0;36m10\u001b[0m\u001b[0;34m)\u001b[0m\u001b[0;34m\u001b[0m\u001b[0;34m\u001b[0m\u001b[0m\n",
            "\u001b[0;31mNameError\u001b[0m: name 'num_epochs' is not defined"
          ]
        }
      ]
    },
    {
      "cell_type": "code",
      "source": [
        "num_epochs = 10  # Define the number of epochs\n",
        "\n",
        "# Define your model, optimizer, loss function, and dataloaders\n",
        "model = YourModel()\n",
        "optimizer = torch.optim.Adam(model.parameters(), lr=learning_rate)\n",
        "cost = torch.nn.CrossEntropyLoss()  # Assuming you're dealing with classification\n",
        "\n",
        "# Assuming you have train_dataloader and test_dataloader defined\n",
        "\n",
        "# Training loop\n",
        "for epoch in range(num_epochs):\n",
        "    print(f'Epoch {epoch + 1}/{num_epochs}')\n",
        "    print('-' * 10)\n",
        "\n",
        "    # Training phase\n",
        "    train(train_dataloader, model, cost, optimizer)\n",
        "\n",
        "    # Validation phase\n",
        "    test_loss = test(test_dataloader, model)\n",
        "\n",
        "    # Optionally, you can do additional logging or save the model based on validation performance\n",
        "    # For example:\n",
        "    # if test_loss < best_loss:\n",
        "    #     best_loss = test_loss\n",
        "    #     torch.save(model.state_dict(), 'best_model.pth')\n",
        "\n",
        "print('Training finished.')\n"
      ],
      "metadata": {
        "colab": {
          "base_uri": "https://localhost:8080/",
          "height": 258
        },
        "id": "mjS7tkKk5bsE",
        "outputId": "c570fa6a-cb83-48fd-e839-2172c8fa3fd4"
      },
      "execution_count": 63,
      "outputs": [
        {
          "output_type": "error",
          "ename": "NameError",
          "evalue": "name 'YourModel' is not defined",
          "traceback": [
            "\u001b[0;31m---------------------------------------------------------------------------\u001b[0m",
            "\u001b[0;31mNameError\u001b[0m                                 Traceback (most recent call last)",
            "\u001b[0;32m<ipython-input-63-54664a15a5d2>\u001b[0m in \u001b[0;36m<cell line: 4>\u001b[0;34m()\u001b[0m\n\u001b[1;32m      2\u001b[0m \u001b[0;34m\u001b[0m\u001b[0m\n\u001b[1;32m      3\u001b[0m \u001b[0;31m# Define your model, optimizer, loss function, and dataloaders\u001b[0m\u001b[0;34m\u001b[0m\u001b[0;34m\u001b[0m\u001b[0m\n\u001b[0;32m----> 4\u001b[0;31m \u001b[0mmodel\u001b[0m \u001b[0;34m=\u001b[0m \u001b[0mYourModel\u001b[0m\u001b[0;34m(\u001b[0m\u001b[0;34m)\u001b[0m\u001b[0;34m\u001b[0m\u001b[0;34m\u001b[0m\u001b[0m\n\u001b[0m\u001b[1;32m      5\u001b[0m \u001b[0moptimizer\u001b[0m \u001b[0;34m=\u001b[0m \u001b[0mtorch\u001b[0m\u001b[0;34m.\u001b[0m\u001b[0moptim\u001b[0m\u001b[0;34m.\u001b[0m\u001b[0mAdam\u001b[0m\u001b[0;34m(\u001b[0m\u001b[0mmodel\u001b[0m\u001b[0;34m.\u001b[0m\u001b[0mparameters\u001b[0m\u001b[0;34m(\u001b[0m\u001b[0;34m)\u001b[0m\u001b[0;34m,\u001b[0m \u001b[0mlr\u001b[0m\u001b[0;34m=\u001b[0m\u001b[0mlearning_rate\u001b[0m\u001b[0;34m)\u001b[0m\u001b[0;34m\u001b[0m\u001b[0;34m\u001b[0m\u001b[0m\n\u001b[1;32m      6\u001b[0m \u001b[0mcost\u001b[0m \u001b[0;34m=\u001b[0m \u001b[0mtorch\u001b[0m\u001b[0;34m.\u001b[0m\u001b[0mnn\u001b[0m\u001b[0;34m.\u001b[0m\u001b[0mCrossEntropyLoss\u001b[0m\u001b[0;34m(\u001b[0m\u001b[0;34m)\u001b[0m  \u001b[0;31m# Assuming you're dealing with classification\u001b[0m\u001b[0;34m\u001b[0m\u001b[0;34m\u001b[0m\u001b[0m\n",
            "\u001b[0;31mNameError\u001b[0m: name 'YourModel' is not defined"
          ]
        }
      ]
    },
    {
      "cell_type": "code",
      "source": [
        "import torch\n",
        "import torch.nn as nn\n",
        "\n",
        "# Define your model class\n",
        "class YourModel(nn.Module):\n",
        "    def __init__(self):\n",
        "        super(YourModel, self).__init__()\n",
        "        # Define your model architecture here\n",
        "\n",
        "    def forward(self, x):\n",
        "        # Define the forward pass of your model\n",
        "        return x  # Adjust this according to your model architecture\n",
        "\n",
        "# Define other parameters\n",
        "learning_rate = 0.001\n",
        "num_epochs = 10\n",
        "\n",
        "# Define your model, optimizer, loss function, and dataloaders\n",
        "model = YourModel()  # Instantiate your model class\n",
        "optimizer = torch.optim.Adam(model.parameters(), lr=learning_rate)\n",
        "cost = torch.nn.CrossEntropyLoss()  # Assuming you're dealing with classification\n",
        "\n",
        "# Assuming you have train_dataloader and test_dataloader defined\n",
        "st(test_dataloader, model)\n",
        "\n",
        "    # Optionally, you can do additional logging or save the model based on validation performance\n",
        "    # For example:\n",
        "    # if test_loss < best_loss:\n",
        "    #     best_loss = test_loss\n",
        "    #     torch.save(model.state_dict(), 'best_model.pth')\n",
        "\n",
        "print('Training finished.')\n",
        "\n",
        "# Training loop\n",
        "for epoch in range(num_epochs):\n",
        "    print(f'Epoch {epoch + 1}/{num_epochs}')\n",
        "    print('-' * 10)\n",
        "\n",
        "    # Training phase\n",
        "    train(train_dataloader, model, cost, optimizer)\n",
        "\n",
        "    # Validation phase\n",
        "    test_loss = te"
      ],
      "metadata": {
        "colab": {
          "base_uri": "https://localhost:8080/",
          "height": 622
        },
        "id": "IguaNeqF5bhn",
        "outputId": "7dd3b065-de63-42b4-a162-44745bfc811b"
      },
      "execution_count": 64,
      "outputs": [
        {
          "output_type": "error",
          "ename": "ValueError",
          "evalue": "optimizer got an empty parameter list",
          "traceback": [
            "\u001b[0;31m---------------------------------------------------------------------------\u001b[0m",
            "\u001b[0;31mValueError\u001b[0m                                Traceback (most recent call last)",
            "\u001b[0;32m<ipython-input-64-315adfad3c1b>\u001b[0m in \u001b[0;36m<cell line: 20>\u001b[0;34m()\u001b[0m\n\u001b[1;32m     18\u001b[0m \u001b[0;31m# Define your model, optimizer, loss function, and dataloaders\u001b[0m\u001b[0;34m\u001b[0m\u001b[0;34m\u001b[0m\u001b[0m\n\u001b[1;32m     19\u001b[0m \u001b[0mmodel\u001b[0m \u001b[0;34m=\u001b[0m \u001b[0mYourModel\u001b[0m\u001b[0;34m(\u001b[0m\u001b[0;34m)\u001b[0m  \u001b[0;31m# Instantiate your model class\u001b[0m\u001b[0;34m\u001b[0m\u001b[0;34m\u001b[0m\u001b[0m\n\u001b[0;32m---> 20\u001b[0;31m \u001b[0moptimizer\u001b[0m \u001b[0;34m=\u001b[0m \u001b[0mtorch\u001b[0m\u001b[0;34m.\u001b[0m\u001b[0moptim\u001b[0m\u001b[0;34m.\u001b[0m\u001b[0mAdam\u001b[0m\u001b[0;34m(\u001b[0m\u001b[0mmodel\u001b[0m\u001b[0;34m.\u001b[0m\u001b[0mparameters\u001b[0m\u001b[0;34m(\u001b[0m\u001b[0;34m)\u001b[0m\u001b[0;34m,\u001b[0m \u001b[0mlr\u001b[0m\u001b[0;34m=\u001b[0m\u001b[0mlearning_rate\u001b[0m\u001b[0;34m)\u001b[0m\u001b[0;34m\u001b[0m\u001b[0;34m\u001b[0m\u001b[0m\n\u001b[0m\u001b[1;32m     21\u001b[0m \u001b[0mcost\u001b[0m \u001b[0;34m=\u001b[0m \u001b[0mtorch\u001b[0m\u001b[0;34m.\u001b[0m\u001b[0mnn\u001b[0m\u001b[0;34m.\u001b[0m\u001b[0mCrossEntropyLoss\u001b[0m\u001b[0;34m(\u001b[0m\u001b[0;34m)\u001b[0m  \u001b[0;31m# Assuming you're dealing with classification\u001b[0m\u001b[0;34m\u001b[0m\u001b[0;34m\u001b[0m\u001b[0m\n\u001b[1;32m     22\u001b[0m \u001b[0;34m\u001b[0m\u001b[0m\n",
            "\u001b[0;32m/usr/local/lib/python3.10/dist-packages/torch/optim/adam.py\u001b[0m in \u001b[0;36m__init__\u001b[0;34m(self, params, lr, betas, eps, weight_decay, amsgrad, foreach, maximize, capturable, differentiable, fused)\u001b[0m\n\u001b[1;32m     43\u001b[0m                         \u001b[0mmaximize\u001b[0m\u001b[0;34m=\u001b[0m\u001b[0mmaximize\u001b[0m\u001b[0;34m,\u001b[0m \u001b[0mforeach\u001b[0m\u001b[0;34m=\u001b[0m\u001b[0mforeach\u001b[0m\u001b[0;34m,\u001b[0m \u001b[0mcapturable\u001b[0m\u001b[0;34m=\u001b[0m\u001b[0mcapturable\u001b[0m\u001b[0;34m,\u001b[0m\u001b[0;34m\u001b[0m\u001b[0;34m\u001b[0m\u001b[0m\n\u001b[1;32m     44\u001b[0m                         differentiable=differentiable, fused=fused)\n\u001b[0;32m---> 45\u001b[0;31m         \u001b[0msuper\u001b[0m\u001b[0;34m(\u001b[0m\u001b[0;34m)\u001b[0m\u001b[0;34m.\u001b[0m\u001b[0m__init__\u001b[0m\u001b[0;34m(\u001b[0m\u001b[0mparams\u001b[0m\u001b[0;34m,\u001b[0m \u001b[0mdefaults\u001b[0m\u001b[0;34m)\u001b[0m\u001b[0;34m\u001b[0m\u001b[0;34m\u001b[0m\u001b[0m\n\u001b[0m\u001b[1;32m     46\u001b[0m \u001b[0;34m\u001b[0m\u001b[0m\n\u001b[1;32m     47\u001b[0m         \u001b[0;32mif\u001b[0m \u001b[0mfused\u001b[0m\u001b[0;34m:\u001b[0m\u001b[0;34m\u001b[0m\u001b[0;34m\u001b[0m\u001b[0m\n",
            "\u001b[0;32m/usr/local/lib/python3.10/dist-packages/torch/optim/optimizer.py\u001b[0m in \u001b[0;36m__init__\u001b[0;34m(self, params, defaults)\u001b[0m\n\u001b[1;32m    271\u001b[0m         \u001b[0mparam_groups\u001b[0m \u001b[0;34m=\u001b[0m \u001b[0mlist\u001b[0m\u001b[0;34m(\u001b[0m\u001b[0mparams\u001b[0m\u001b[0;34m)\u001b[0m\u001b[0;34m\u001b[0m\u001b[0;34m\u001b[0m\u001b[0m\n\u001b[1;32m    272\u001b[0m         \u001b[0;32mif\u001b[0m \u001b[0mlen\u001b[0m\u001b[0;34m(\u001b[0m\u001b[0mparam_groups\u001b[0m\u001b[0;34m)\u001b[0m \u001b[0;34m==\u001b[0m \u001b[0;36m0\u001b[0m\u001b[0;34m:\u001b[0m\u001b[0;34m\u001b[0m\u001b[0;34m\u001b[0m\u001b[0m\n\u001b[0;32m--> 273\u001b[0;31m             \u001b[0;32mraise\u001b[0m \u001b[0mValueError\u001b[0m\u001b[0;34m(\u001b[0m\u001b[0;34m\"optimizer got an empty parameter list\"\u001b[0m\u001b[0;34m)\u001b[0m\u001b[0;34m\u001b[0m\u001b[0;34m\u001b[0m\u001b[0m\n\u001b[0m\u001b[1;32m    274\u001b[0m         \u001b[0;32mif\u001b[0m \u001b[0;32mnot\u001b[0m \u001b[0misinstance\u001b[0m\u001b[0;34m(\u001b[0m\u001b[0mparam_groups\u001b[0m\u001b[0;34m[\u001b[0m\u001b[0;36m0\u001b[0m\u001b[0;34m]\u001b[0m\u001b[0;34m,\u001b[0m \u001b[0mdict\u001b[0m\u001b[0;34m)\u001b[0m\u001b[0;34m:\u001b[0m\u001b[0;34m\u001b[0m\u001b[0;34m\u001b[0m\u001b[0m\n\u001b[1;32m    275\u001b[0m             \u001b[0mparam_groups\u001b[0m \u001b[0;34m=\u001b[0m \u001b[0;34m[\u001b[0m\u001b[0;34m{\u001b[0m\u001b[0;34m'params'\u001b[0m\u001b[0;34m:\u001b[0m \u001b[0mparam_groups\u001b[0m\u001b[0;34m}\u001b[0m\u001b[0;34m]\u001b[0m\u001b[0;34m\u001b[0m\u001b[0;34m\u001b[0m\u001b[0m\n",
            "\u001b[0;31mValueError\u001b[0m: optimizer got an empty parameter list"
          ]
        }
      ]
    },
    {
      "cell_type": "code",
      "source": [
        "import torch\n",
        "import torch.nn as nn\n",
        "\n",
        "# Define your model class\n",
        "class YourModel(nn.Module):\n",
        "    def __init__(self):\n",
        "        super(YourModel, self).__init__()\n",
        "        self.fc1 = nn.Linear(in_features=784, out_features=128)\n",
        "        self.fc2 = nn.Linear(in_features=128, out_features=10)\n",
        "\n",
        "    def forward(self, x):\n",
        "        x = torch.relu(self.fc1(x))\n",
        "        x = self.fc2(x)\n",
        "        return x\n",
        "\n",
        "# Instantiate your model\n",
        "model = YourModel()\n",
        "\n",
        "# Define optimizer and other parameters\n",
        "learning_rate = 0.001\n",
        "optimizer = torch.optim.Adam(model.parameters(), lr=learning_rate)\n",
        "cost = torch.nn.CrossEntropyLoss()  # Assuming you're dealing with classification\n"
      ],
      "metadata": {
        "id": "mPksgvxE5wXL"
      },
      "execution_count": 65,
      "outputs": []
    },
    {
      "cell_type": "code",
      "source": [
        "def train(dataloader, model, loss, optimizer):\n",
        "    model.train()\n",
        "    size = len(dataloader.dataset)\n",
        "    correct = 0  # Counter for correct predictions\n",
        "    total = 0  # Counter for total examples\n",
        "\n",
        "    for X, Y in dataloader:  # Iterate over batches\n",
        "        X, Y = X.to(device), Y.to(device)  # Move data to device\n",
        "        optimizer.zero_grad()  # Zero the gradients\n",
        "        pred = model(X)  # Forward pass\n",
        "        loss_val = loss(pred, Y)  # Compute the loss\n",
        "        loss_val.backward()  # Backward pass\n",
        "        optimizer.step()  # Update the weights\n",
        "\n",
        "        # Compute accuracy\n",
        "        _, predicted = pred.max(1)\n",
        "        total += Y.size(0)\n",
        "        correct += predicted.eq(Y).sum().item()\n",
        "\n",
        "    # Print training statistics\n",
        "    print(f'Train Accuracy: {(100 * correct / total):.2f}%')\n"
      ],
      "metadata": {
        "id": "B3rokcHC6DvG"
      },
      "execution_count": 69,
      "outputs": []
    },
    {
      "cell_type": "code",
      "source": [
        "import torch\n",
        "from datetime import datetime\n",
        "\n",
        "# Get the current timestamp in the desired format\n",
        "timestamp = datetime.now().strftime(\"%Y-%m-%d--%H-%M-%S\")\n",
        "\n",
        "# Define the file name with the timestamp\n",
        "file_name = f\"Resnet34_Model_{timestamp}.pt\"\n",
        "\n",
        "# Save the entire model (including architecture and weights)\n",
        "torch.save(model, file_name)\n",
        "\n",
        "# Print the saved file name\n",
        "print(f\"Model saved as {file_name}\")"
      ],
      "metadata": {
        "colab": {
          "base_uri": "https://localhost:8080/"
        },
        "id": "3WPT1h0r78WL",
        "outputId": "f31a0c2f-e77b-4e73-ce50-8b07227eb78b"
      },
      "execution_count": 71,
      "outputs": [
        {
          "output_type": "stream",
          "name": "stdout",
          "text": [
            "Model saved as Resnet34_Model_2024-02-25--01-44-57.pt\n"
          ]
        }
      ]
    }
  ]
}